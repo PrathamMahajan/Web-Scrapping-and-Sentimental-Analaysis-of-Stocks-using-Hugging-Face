{
 "cells": [
  {
   "cell_type": "code",
   "execution_count": 2,
   "id": "297838c7",
   "metadata": {},
   "outputs": [],
   "source": [
    "from transformers import PegasusTokenizer, PegasusForConditionalGeneration\n",
    "from bs4 import BeautifulSoup\n",
    "import requests\n",
    "import warnings\n",
    "warnings.filterwarnings(\"ignore\", category=DeprecationWarning)"
   ]
  },
  {
   "cell_type": "markdown",
   "id": "39e97293",
   "metadata": {},
   "source": [
    "### Setup Summarization Model"
   ]
  },
  {
   "cell_type": "code",
   "execution_count": 3,
   "id": "0dda838f",
   "metadata": {},
   "outputs": [],
   "source": [
    "model_name = \"human-centered-summarization/financial-summarization-pegasus\"\n",
    "tokenizer = PegasusTokenizer.from_pretrained(model_name)\n",
    "model = PegasusForConditionalGeneration.from_pretrained(model_name)"
   ]
  },
  {
   "cell_type": "markdown",
   "id": "ae65ced1",
   "metadata": {},
   "source": [
    "### Summarization of Articles"
   ]
  },
  {
   "cell_type": "code",
   "execution_count": 4,
   "id": "a943ef1a",
   "metadata": {},
   "outputs": [],
   "source": [
    "url = \"https://finance.yahoo.com/news/jpmorgan-says-stocks-suffer-150-161230891.html\"\n",
    "r = requests.get(url)\n",
    "soup = BeautifulSoup(r.text, 'html.parser')\n",
    "paragraphs = soup.find_all('p')"
   ]
  },
  {
   "cell_type": "code",
   "execution_count": 5,
   "id": "a7ddbc40",
   "metadata": {},
   "outputs": [],
   "source": [
    "text = [paragraph.text for paragraph in paragraphs]\n",
    "words = ' '.join(text).split(' ')[:400]\n",
    "ARTICLE = ' '.join(words)"
   ]
  },
  {
   "cell_type": "code",
   "execution_count": 6,
   "id": "72ffa4c3",
   "metadata": {},
   "outputs": [
    {
     "data": {
      "text/plain": [
       "'(Bloomberg) -- The relentless rally in equities faces a fresh threat over the next few weeks with the world’s biggest money managers set to unload as much as $150 billion of stocks. Most Read from Bloomberg Social Security Benefits Targeted for Cuts by House Conservatives A Goldman Partner’s Sexually Explicit Video Led to Millions in Settlement Stock Rally Is Deepening Beyond AI-Fueled Craze: Markets Wrap US Submarine Damaged in South China Sea Won’t Return Until 2026 as Shipyards Are Clogged Biggest Losers of AI Boom Are Knowledge Workers, McKinsey Says JPMorgan Chase & Co. projects real-money portfolios, including those of sovereign wealth and pension funds, will tilt back in favor of bonds to meet allocation targets, in the largest rebalancing flows to the asset class since the fourth quarter of 2021. The periodic rejigging could knock off as much as 5% from the price of global stocks, according to estimates by JPMorgan strategist Nikolaos Panigirtzoglou. Pension funds and other institutional investors check their market exposures to make sure they meet strict allocation limits between equities and bonds every quarter- and month-end. Equities have outperformed bonds so far this quarter, leaving portfolio managers needing to cut their stocks exposure to meet their long-term targets. “The last time we had such gap with equities and bonds in opposite directions was in the fourth quarter of 2021,” Panigirtzoglou said. “This rebalancing flow could create around a 3% to 5% correction in equities.” The pension and sovereign wealth funds that form the backbone of the investing community typically rebalance their market exposures every quarter to achieve a mix of 60% stocks and 40% bonds or a similar exposure. So far this quarter MSCI’s all-country stock index is up 5% while the Bloomberg global-aggregate bond index is down 1.3%. Japan’s $1.5 trillion Government Pension Investment Fund or GPIF, the world’s largest pension fund, would have to sell $37 billion of equities to get back to its target asset allocation, according to JPMorgan’s calculations. The $1.3 trillion Norwegian oil fund could move $18 billion from stocks to bonds, while the Swiss National Bank could sell $11 billion worth of stocks. Spokespeople for SNB declined to comment while Norges Bank Investment Management — which manages the Norwegian oil fund — didn’t respond. A spokesperson for GPIF didn’t immediately respond to an email outside of business hours seeking comment. US defined benefit pension plans — which manage $8.5'"
      ]
     },
     "execution_count": 6,
     "metadata": {},
     "output_type": "execute_result"
    }
   ],
   "source": [
    "ARTICLE"
   ]
  },
  {
   "cell_type": "code",
   "execution_count": 7,
   "id": "143758ae",
   "metadata": {},
   "outputs": [],
   "source": [
    "input_ids = tokenizer.encode(ARTICLE, return_tensors='pt')\n",
    "output = model.generate(input_ids, max_length = 55, num_beams = 5, early_stopping=True)\n",
    "summary = tokenizer.decode(output[0], skip_special_tokens = True)"
   ]
  },
  {
   "cell_type": "code",
   "execution_count": 8,
   "id": "7141a7a6",
   "metadata": {},
   "outputs": [
    {
     "data": {
      "text/plain": [
       "'Japan’s GPIF could sell $37 billion of stocks to meet targets. SNB could sell $11 billion of equities to meet targets'"
      ]
     },
     "execution_count": 8,
     "metadata": {},
     "output_type": "execute_result"
    }
   ],
   "source": [
    "summary"
   ]
  },
  {
   "cell_type": "markdown",
   "id": "92f80771",
   "metadata": {},
   "source": [
    "### Building a News and Sentiment Pipeline"
   ]
  },
  {
   "cell_type": "code",
   "execution_count": 9,
   "id": "e8c2a4e4",
   "metadata": {},
   "outputs": [],
   "source": [
    "monitored_tickers = ['GME', 'TSLA', 'BTC']"
   ]
  },
  {
   "cell_type": "markdown",
   "id": "69505133",
   "metadata": {},
   "source": [
    "#### 1) Searching for Stock News using Google and Yahoo Finance"
   ]
  },
  {
   "cell_type": "code",
   "execution_count": 10,
   "id": "bdb994c4",
   "metadata": {},
   "outputs": [],
   "source": [
    "def search_for_stock_news_urls(ticker):\n",
    "    search_url = \"https://www.google.com/search?q=yahoo+finance+{}&tbm=nws\".format(ticker)\n",
    "    r = requests.get(search_url)\n",
    "    soup = BeautifulSoup(r.text, 'html.parser')\n",
    "    atags = soup.find_all('a')\n",
    "    hrefs = [link['href'] for link in atags]\n",
    "    return hrefs"
   ]
  },
  {
   "cell_type": "code",
   "execution_count": 11,
   "id": "204da2ce",
   "metadata": {},
   "outputs": [],
   "source": [
    "raw_urls = {}\n",
    "for ticker in monitored_tickers:\n",
    "    raw_urls[ticker] = search_for_stock_news_urls(ticker)"
   ]
  },
  {
   "cell_type": "code",
   "execution_count": 12,
   "id": "a2711d8d",
   "metadata": {},
   "outputs": [
    {
     "data": {
      "text/plain": [
       "{'GME': ['/?sa=X&ved=0ahUKEwjmjMm7-8r_AhUHjFYBHeq0BwQQOwgC',\n",
       "  '/search?q=yahoo+finance+GME&tbm=nws&ie=UTF-8&gbv=1&sei=eP-NZObwNYeY2roP6umeIA',\n",
       "  '/search?q=yahoo+finance+GME&ie=UTF-8&source=lnms&sa=X&ved=0ahUKEwjmjMm7-8r_AhUHjFYBHeq0BwQQ_AUIBSgA',\n",
       "  '/search?q=yahoo+finance+GME&ie=UTF-8&tbm=vid&source=lnms&sa=X&ved=0ahUKEwjmjMm7-8r_AhUHjFYBHeq0BwQQ_AUIBygC',\n",
       "  '/search?q=yahoo+finance+GME&ie=UTF-8&tbm=shop&source=lnms&sa=X&ved=0ahUKEwjmjMm7-8r_AhUHjFYBHeq0BwQQ_AUICCgD',\n",
       "  '/search?q=yahoo+finance+GME&ie=UTF-8&tbm=isch&source=lnms&sa=X&ved=0ahUKEwjmjMm7-8r_AhUHjFYBHeq0BwQQ_AUICSgE',\n",
       "  'https://maps.google.com/maps?q=yahoo+finance+GME&um=1&ie=UTF-8&sa=X&ved=0ahUKEwjmjMm7-8r_AhUHjFYBHeq0BwQQ_AUICigF',\n",
       "  '/search?q=yahoo+finance+GME&ie=UTF-8&tbm=bks&source=lnms&sa=X&ved=0ahUKEwjmjMm7-8r_AhUHjFYBHeq0BwQQ_AUICygG',\n",
       "  '/advanced_search',\n",
       "  '/search?q=yahoo+finance+GME&ie=UTF-8&tbm=nws&source=lnt&tbs=qdr:h&sa=X&ved=0ahUKEwjmjMm7-8r_AhUHjFYBHeq0BwQQpwUIDQ',\n",
       "  '/search?q=yahoo+finance+GME&ie=UTF-8&tbm=nws&source=lnt&tbs=qdr:d&sa=X&ved=0ahUKEwjmjMm7-8r_AhUHjFYBHeq0BwQQpwUIDg',\n",
       "  '/search?q=yahoo+finance+GME&ie=UTF-8&tbm=nws&source=lnt&tbs=qdr:w&sa=X&ved=0ahUKEwjmjMm7-8r_AhUHjFYBHeq0BwQQpwUIDw',\n",
       "  '/search?q=yahoo+finance+GME&ie=UTF-8&tbm=nws&source=lnt&tbs=qdr:m&sa=X&ved=0ahUKEwjmjMm7-8r_AhUHjFYBHeq0BwQQpwUIEA',\n",
       "  '/search?q=yahoo+finance+GME&ie=UTF-8&tbm=nws&source=lnt&tbs=qdr:y&sa=X&ved=0ahUKEwjmjMm7-8r_AhUHjFYBHeq0BwQQpwUIEQ',\n",
       "  '/search?q=yahoo+finance+GME&ie=UTF-8&tbm=nws&source=lnt&tbs=ar:1&sa=X&ved=0ahUKEwjmjMm7-8r_AhUHjFYBHeq0BwQQpwUIEg',\n",
       "  '/search?q=yahoo+finance+GME&ie=UTF-8&tbm=nws&source=lnt&tbs=sbd:1&sa=X&ved=0ahUKEwjmjMm7-8r_AhUHjFYBHeq0BwQQpwUIFA',\n",
       "  '/url?q=https://finance.yahoo.com/news/gamestop-discloses-first-quarter-2023-201500165.html&sa=U&ved=2ahUKEwjmjMm7-8r_AhUHjFYBHeq0BwQQxfQBegQIARAC&usg=AOvVaw2_RHv5xoNCzjy7sm_SPT1g',\n",
       "  '/url?q=https://finance.yahoo.com/news/an-open-letter-to-gamestop-executive-chairman-ryan-cohen-morning-brief-100037724.html&sa=U&ved=2ahUKEwjmjMm7-8r_AhUHjFYBHeq0BwQQxfQBegQICRAC&usg=AOvVaw2E0tlIjie0sU5CHx75MRIv',\n",
       "  '/url?q=https://ca.finance.yahoo.com/news/gamestop-stock-tanks-after-company-fires-ceo-123910339.html&sa=U&ved=2ahUKEwjmjMm7-8r_AhUHjFYBHeq0BwQQxfQBegQIAhAC&usg=AOvVaw1htelX05m8P9WMS4rNcNU-',\n",
       "  '/url?q=https://finance.yahoo.com/news/stocks-rise-sp-500-enters-new-bull-market-stock-market-news-today-200316428.html&sa=U&ved=2ahUKEwjmjMm7-8r_AhUHjFYBHeq0BwQQxfQBegQIAxAC&usg=AOvVaw2P2497oohlYCilG7pKIdgF',\n",
       "  '/url?q=https://finance.yahoo.com/news/debt-ceiling-done-fed-goes-quiet-what-to-watch-this-week-130054402.html&sa=U&ved=2ahUKEwjmjMm7-8r_AhUHjFYBHeq0BwQQxfQBegQIBRAC&usg=AOvVaw0gSXhlmJqL3c8vqIwQvhH1',\n",
       "  '/url?q=https://finance.yahoo.com/news/gen-z-roi-mba-more-181935654.html&sa=U&ved=2ahUKEwjmjMm7-8r_AhUHjFYBHeq0BwQQxfQBegQIBBAC&usg=AOvVaw0helRomLrXXJDzJa4I56YH',\n",
       "  '/url?q=https://www.thestreet.com/retail/meme-stock-gamestop-just-did-something-impressive&sa=U&ved=2ahUKEwjmjMm7-8r_AhUHjFYBHeq0BwQQxfQBegQIBhAC&usg=AOvVaw1X6SFxatchDVqRshk4jQHY',\n",
       "  '/url?q=https://finance.yahoo.com/news/12-best-short-squeeze-stocks-120213885.html&sa=U&ved=2ahUKEwjmjMm7-8r_AhUHjFYBHeq0BwQQxfQBegQIABAC&usg=AOvVaw2S6t2N21Y9QoDFPFT9wzlN',\n",
       "  '/url?q=https://finance.yahoo.com/news/midday-movers-affirm-stitch-fix-141723392.html&sa=U&ved=2ahUKEwjmjMm7-8r_AhUHjFYBHeq0BwQQxfQBegQICBAC&usg=AOvVaw0bp4vDGF_47ECCMmA2jjDN',\n",
       "  '/url?q=https://finance.yahoo.com/news/invesco-p-midcap-400-equal-102008681.html&sa=U&ved=2ahUKEwjmjMm7-8r_AhUHjFYBHeq0BwQQxfQBegQIBxAC&usg=AOvVaw1lNR_5jVibXxASdnmyi6Fh',\n",
       "  '/search?q=yahoo+finance+GME&ie=UTF-8&tbm=nws&ei=eP-NZObwNYeY2roP6umeIA&start=10&sa=N',\n",
       "  '/url?q=https://support.google.com/websearch%3Fp%3Dws_settings_location%26hl%3Den-IN&sa=U&ved=0ahUKEwjmjMm7-8r_AhUHjFYBHeq0BwQQty4IUw&usg=AOvVaw2ItpQemKBz8jRZbe8ezb8n',\n",
       "  '/url?q=https://accounts.google.com/ServiceLogin%3Fcontinue%3Dhttps://www.google.com/search%253Fq%253Dyahoo%252Bfinance%252BGME%2526tbm%253Dnws%26hl%3Den&sa=U&ved=0ahUKEwjmjMm7-8r_AhUHjFYBHeq0BwQQxs8CCFQ&usg=AOvVaw3L7zmmp43oxaw-QjnNfLDy',\n",
       "  'https://www.google.com/preferences?hl=en-IN&fg=1&sa=X&ved=0ahUKEwjmjMm7-8r_AhUHjFYBHeq0BwQQ5fUCCFU',\n",
       "  'https://policies.google.com/privacy?hl=en-IN&fg=1',\n",
       "  'https://policies.google.com/terms?hl=en-IN&fg=1',\n",
       "  '/setprefs?hl=en&prev=https://www.google.com/search?q%3Dyahoo%2Bfinance%2BGME%26tbm%3Dnws%26pccc%3D1&sig=0_tpqajmf4aVvNyMxJOJutX9_eJVE%3D&cs=2&sa=X&ved=0ahUKEwjmjMm7-8r_AhUHjFYBHeq0BwQQjcAJCFY'],\n",
       " 'TSLA': ['/?sa=X&ved=0ahUKEwiVxP27-8r_AhU9sVYBHaF0CGQQOwgC',\n",
       "  '/search?q=yahoo+finance+TSLA&tbm=nws&ie=UTF-8&gbv=1&sei=ef-NZNWjLb3i2roPoemhoAY',\n",
       "  '/search?q=yahoo+finance+TSLA&ie=UTF-8&source=lnms&sa=X&ved=0ahUKEwiVxP27-8r_AhU9sVYBHaF0CGQQ_AUIBSgA',\n",
       "  '/search?q=yahoo+finance+TSLA&ie=UTF-8&tbm=vid&source=lnms&sa=X&ved=0ahUKEwiVxP27-8r_AhU9sVYBHaF0CGQQ_AUIBygC',\n",
       "  '/search?q=yahoo+finance+TSLA&ie=UTF-8&tbm=shop&source=lnms&sa=X&ved=0ahUKEwiVxP27-8r_AhU9sVYBHaF0CGQQ_AUICCgD',\n",
       "  '/search?q=yahoo+finance+TSLA&ie=UTF-8&tbm=isch&source=lnms&sa=X&ved=0ahUKEwiVxP27-8r_AhU9sVYBHaF0CGQQ_AUICSgE',\n",
       "  'https://maps.google.com/maps?q=yahoo+finance+TSLA&um=1&ie=UTF-8&sa=X&ved=0ahUKEwiVxP27-8r_AhU9sVYBHaF0CGQQ_AUICigF',\n",
       "  '/search?q=yahoo+finance+TSLA&ie=UTF-8&tbm=bks&source=lnms&sa=X&ved=0ahUKEwiVxP27-8r_AhU9sVYBHaF0CGQQ_AUICygG',\n",
       "  '/advanced_search',\n",
       "  '/search?q=yahoo+finance+TSLA&ie=UTF-8&tbm=nws&source=lnt&tbs=qdr:h&sa=X&ved=0ahUKEwiVxP27-8r_AhU9sVYBHaF0CGQQpwUIDQ',\n",
       "  '/search?q=yahoo+finance+TSLA&ie=UTF-8&tbm=nws&source=lnt&tbs=qdr:d&sa=X&ved=0ahUKEwiVxP27-8r_AhU9sVYBHaF0CGQQpwUIDg',\n",
       "  '/search?q=yahoo+finance+TSLA&ie=UTF-8&tbm=nws&source=lnt&tbs=qdr:w&sa=X&ved=0ahUKEwiVxP27-8r_AhU9sVYBHaF0CGQQpwUIDw',\n",
       "  '/search?q=yahoo+finance+TSLA&ie=UTF-8&tbm=nws&source=lnt&tbs=qdr:m&sa=X&ved=0ahUKEwiVxP27-8r_AhU9sVYBHaF0CGQQpwUIEA',\n",
       "  '/search?q=yahoo+finance+TSLA&ie=UTF-8&tbm=nws&source=lnt&tbs=qdr:y&sa=X&ved=0ahUKEwiVxP27-8r_AhU9sVYBHaF0CGQQpwUIEQ',\n",
       "  '/search?q=yahoo+finance+TSLA&ie=UTF-8&tbm=nws&source=lnt&tbs=ar:1&sa=X&ved=0ahUKEwiVxP27-8r_AhU9sVYBHaF0CGQQpwUIEg',\n",
       "  '/search?q=yahoo+finance+TSLA&ie=UTF-8&tbm=nws&source=lnt&tbs=sbd:1&sa=X&ved=0ahUKEwiVxP27-8r_AhU9sVYBHaF0CGQQpwUIFA',\n",
       "  '/url?q=https://finance.yahoo.com/news/investors-pouring-money-tesla-because-022311782.html&sa=U&ved=2ahUKEwiVxP27-8r_AhU9sVYBHaF0CGQQxfQBegQIAhAC&usg=AOvVaw0jmznrVFiOMN8snXrq-TlW',\n",
       "  '/url?q=https://finance.yahoo.com/video/musk-focusing-tesla-not-twitter-211635694.html&sa=U&ved=2ahUKEwiVxP27-8r_AhU9sVYBHaF0CGQQxfQBegQICRAC&usg=AOvVaw0sS6beyPLXx5-MrVFedNTH',\n",
       "  '/url?q=https://finance.yahoo.com/news/ev-stocks-join-ai-names-in-leading-the-stock-market-rally-165234734.html&sa=U&ved=2ahUKEwiVxP27-8r_AhU9sVYBHaF0CGQQxfQBegQIAxAC&usg=AOvVaw1x1lpwBfaPO8s_02ktlFWf',\n",
       "  '/url?q=https://finance.yahoo.com/video/tesla-ev-stocks-lead-rally-205716138.html&sa=U&ved=2ahUKEwiVxP27-8r_AhU9sVYBHaF0CGQQxfQBegQIBBAC&usg=AOvVaw2sE8gUFs9KC-6yLjkL4Lt9',\n",
       "  '/url?q=https://finance.yahoo.com/news/tesla-and-apple-arent-the-only-stocks-on-a-sizzling-run--check-out-airline-stocks-160903459.html&sa=U&ved=2ahUKEwiVxP27-8r_AhU9sVYBHaF0CGQQxfQBegQIBRAC&usg=AOvVaw1zw3ILWkB_664CSob6cBeZ',\n",
       "  '/url?q=https://finance.yahoo.com/news/tesla-stock-surges-as-all-model-3-sedans-now-qualify-for-full-ev-tax-credit-141823296.html&sa=U&ved=2ahUKEwiVxP27-8r_AhU9sVYBHaF0CGQQxfQBegQICBAC&usg=AOvVaw3tpg_crjCXGWENB49DFLP9',\n",
       "  '/url?q=https://finance.yahoo.com/news/kevin-oleary-teslas-cybertruck-has-a-really-ugly-look-but-the-demand-is-huge-100022692.html&sa=U&ved=2ahUKEwiVxP27-8r_AhU9sVYBHaF0CGQQxfQBegQIARAC&usg=AOvVaw0BWTMsOBU0g8uXsdTw7ZH9',\n",
       "  '/url?q=https://ca.finance.yahoo.com/news/tesla-stocks-dazzling-rally-thanks-200311505.html&sa=U&ved=2ahUKEwiVxP27-8r_AhU9sVYBHaF0CGQQxfQBegQIABAC&usg=AOvVaw3hSLWx4sEYggfgRQUjylsV',\n",
       "  '/url?q=https://finance.yahoo.com/news/tesla-record-run-gains-drives-143055513.html&sa=U&ved=2ahUKEwiVxP27-8r_AhU9sVYBHaF0CGQQxfQBegQIBxAC&usg=AOvVaw2Gjwl3kwsN4zAvxixxbKj9',\n",
       "  '/url?q=https://finance.yahoo.com/news/1-tesla-loses-bid-overturn-200604380.html&sa=U&ved=2ahUKEwiVxP27-8r_AhU9sVYBHaF0CGQQxfQBegQIBhAC&usg=AOvVaw31WHJodaFiakJAFwZhLgq5',\n",
       "  '/search?q=yahoo+finance+TSLA&ie=UTF-8&tbm=nws&ei=ef-NZNWjLb3i2roPoemhoAY&start=10&sa=N',\n",
       "  '/url?q=https://support.google.com/websearch%3Fp%3Dws_settings_location%26hl%3Den-IN&sa=U&ved=0ahUKEwiVxP27-8r_AhU9sVYBHaF0CGQQty4IUw&usg=AOvVaw0lTyOjkGehfS6D6rswz0Fj',\n",
       "  '/url?q=https://accounts.google.com/ServiceLogin%3Fcontinue%3Dhttps://www.google.com/search%253Fq%253Dyahoo%252Bfinance%252BTSLA%2526tbm%253Dnws%26hl%3Den&sa=U&ved=0ahUKEwiVxP27-8r_AhU9sVYBHaF0CGQQxs8CCFQ&usg=AOvVaw21uqqYOzZp0tLqTLW7H7vL',\n",
       "  'https://www.google.com/preferences?hl=en-IN&fg=1&sa=X&ved=0ahUKEwiVxP27-8r_AhU9sVYBHaF0CGQQ5fUCCFU',\n",
       "  'https://policies.google.com/privacy?hl=en-IN&fg=1',\n",
       "  'https://policies.google.com/terms?hl=en-IN&fg=1',\n",
       "  '/setprefs?hl=en&prev=https://www.google.com/search?q%3Dyahoo%2Bfinance%2BTSLA%26tbm%3Dnws%26pccc%3D1&sig=0_0hVBN9FojatzxtMgZNpLbF6e794%3D&cs=2&sa=X&ved=0ahUKEwiVxP27-8r_AhU9sVYBHaF0CGQQjcAJCFY'],\n",
       " 'BTC': ['/?sa=X&ved=0ahUKEwj3vra8-8r_AhUuiFYBHfdOBWsQOwgC',\n",
       "  '/search?q=yahoo+finance+BTC&tbm=nws&ie=UTF-8&gbv=1&sei=ev-NZPeZKa6Q2roP952V2AY',\n",
       "  '/search?q=yahoo+finance+BTC&ie=UTF-8&source=lnms&sa=X&ved=0ahUKEwj3vra8-8r_AhUuiFYBHfdOBWsQ_AUIBSgA',\n",
       "  '/search?q=yahoo+finance+BTC&ie=UTF-8&tbm=isch&source=lnms&sa=X&ved=0ahUKEwj3vra8-8r_AhUuiFYBHfdOBWsQ_AUIBygC',\n",
       "  '/search?q=yahoo+finance+BTC&ie=UTF-8&tbm=shop&source=lnms&sa=X&ved=0ahUKEwj3vra8-8r_AhUuiFYBHfdOBWsQ_AUICCgD',\n",
       "  'https://maps.google.com/maps?q=yahoo+finance+BTC&um=1&ie=UTF-8&sa=X&ved=0ahUKEwj3vra8-8r_AhUuiFYBHfdOBWsQ_AUICSgE',\n",
       "  '/search?q=yahoo+finance+BTC&ie=UTF-8&tbm=vid&source=lnms&sa=X&ved=0ahUKEwj3vra8-8r_AhUuiFYBHfdOBWsQ_AUICigF',\n",
       "  '/search?q=yahoo+finance+BTC&ie=UTF-8&tbm=bks&source=lnms&sa=X&ved=0ahUKEwj3vra8-8r_AhUuiFYBHfdOBWsQ_AUICygG',\n",
       "  '/advanced_search',\n",
       "  '/search?q=yahoo+finance+BTC&ie=UTF-8&tbm=nws&source=lnt&tbs=qdr:h&sa=X&ved=0ahUKEwj3vra8-8r_AhUuiFYBHfdOBWsQpwUIDQ',\n",
       "  '/search?q=yahoo+finance+BTC&ie=UTF-8&tbm=nws&source=lnt&tbs=qdr:d&sa=X&ved=0ahUKEwj3vra8-8r_AhUuiFYBHfdOBWsQpwUIDg',\n",
       "  '/search?q=yahoo+finance+BTC&ie=UTF-8&tbm=nws&source=lnt&tbs=qdr:w&sa=X&ved=0ahUKEwj3vra8-8r_AhUuiFYBHfdOBWsQpwUIDw',\n",
       "  '/search?q=yahoo+finance+BTC&ie=UTF-8&tbm=nws&source=lnt&tbs=qdr:m&sa=X&ved=0ahUKEwj3vra8-8r_AhUuiFYBHfdOBWsQpwUIEA',\n",
       "  '/search?q=yahoo+finance+BTC&ie=UTF-8&tbm=nws&source=lnt&tbs=qdr:y&sa=X&ved=0ahUKEwj3vra8-8r_AhUuiFYBHfdOBWsQpwUIEQ',\n",
       "  '/search?q=yahoo+finance+BTC&ie=UTF-8&tbm=nws&source=lnt&tbs=ar:1&sa=X&ved=0ahUKEwj3vra8-8r_AhUuiFYBHfdOBWsQpwUIEg',\n",
       "  '/search?q=yahoo+finance+BTC&ie=UTF-8&tbm=nws&source=lnt&tbs=sbd:1&sa=X&ved=0ahUKEwj3vra8-8r_AhUuiFYBHfdOBWsQpwUIFA',\n",
       "  '/url?q=https://finance.yahoo.com/news/bitcoin-mining-difficulty-rises-2-035731218.html&sa=U&ved=2ahUKEwj3vra8-8r_AhUuiFYBHfdOBWsQxfQBegQICBAC&usg=AOvVaw1nafrlJO5slcgvMK6-_8YO',\n",
       "  '/url?q=https://finance.yahoo.com/video/bitcoin-above-25k-blackrock-etf-143902877.html&sa=U&ved=2ahUKEwj3vra8-8r_AhUuiFYBHfdOBWsQxfQBegQICRAC&usg=AOvVaw1js3vi75qISsTB6H5HZB-l',\n",
       "  '/url?q=https://finance.yahoo.com/news/one-winner-in-the-secs-clash-with-crypto-bitcoin-162410185.html&sa=U&ved=2ahUKEwj3vra8-8r_AhUuiFYBHfdOBWsQxfQBegQIBBAC&usg=AOvVaw0A2DLIUkzRaQtEVqeTUADT',\n",
       "  '/url?q=https://finance.yahoo.com/news/bitcoin-and-tether-sag-as-crypto-markets-face-mounting-pressures-171108426.html&sa=U&ved=2ahUKEwj3vra8-8r_AhUuiFYBHfdOBWsQxfQBegQIBxAC&usg=AOvVaw0YIW5PT_iShhRxR2uMgQxp',\n",
       "  '/url?q=https://uk.finance.yahoo.com/news/bitcoin-price-sam-bankman-fried-trial-us-090726033.html&sa=U&ved=2ahUKEwj3vra8-8r_AhUuiFYBHfdOBWsQxfQBegQIAxAC&usg=AOvVaw17EhAyUXNnFs9g7n4zv0fa',\n",
       "  '/url?q=https://finance.yahoo.com/news/bitcoin-regains-ground-reach-25-204244572.html&sa=U&ved=2ahUKEwj3vra8-8r_AhUuiFYBHfdOBWsQxfQBegQIABAC&usg=AOvVaw2-PL0P5H6zuBWwMJgxSOnv',\n",
       "  '/url?q=https://finance.yahoo.com/news/bitcoin-miner-crusoe-energy-secures-120000509.html&sa=U&ved=2ahUKEwj3vra8-8r_AhUuiFYBHfdOBWsQxfQBegQIAhAC&usg=AOvVaw2ioI4hHQhnBQdC_nJmMhcP',\n",
       "  '/url?q=https://finance.yahoo.com/news/jack-dorsey-backed-bitcoin-wallet-182935178.html&sa=U&ved=2ahUKEwj3vra8-8r_AhUuiFYBHfdOBWsQxfQBegQIARAC&usg=AOvVaw0UhmyXo-_BprlQ2CchuTwW',\n",
       "  '/url?q=https://finance.yahoo.com/news/crypto-industry-destined-bitcoin-focused-090212070.html&sa=U&ved=2ahUKEwj3vra8-8r_AhUuiFYBHfdOBWsQxfQBegQIBhAC&usg=AOvVaw2dMePD1qNZzDq6WQ1ehKW8',\n",
       "  '/url?q=https://finance.yahoo.com/news/first-mover-asia-large-bitcoin-010654210.html&sa=U&ved=2ahUKEwj3vra8-8r_AhUuiFYBHfdOBWsQxfQBegQIBRAC&usg=AOvVaw3qRjOxHLOZIM2h3tWLOPZg',\n",
       "  '/search?q=yahoo+finance+BTC&ie=UTF-8&tbm=nws&ei=ev-NZPeZKa6Q2roP952V2AY&start=10&sa=N',\n",
       "  '/url?q=https://support.google.com/websearch%3Fp%3Dws_settings_location%26hl%3Den-IN&sa=U&ved=0ahUKEwj3vra8-8r_AhUuiFYBHfdOBWsQty4IUw&usg=AOvVaw0aNr3UQX-B5d3TkDUUvnsZ',\n",
       "  '/url?q=https://accounts.google.com/ServiceLogin%3Fcontinue%3Dhttps://www.google.com/search%253Fq%253Dyahoo%252Bfinance%252BBTC%2526tbm%253Dnws%26hl%3Den&sa=U&ved=0ahUKEwj3vra8-8r_AhUuiFYBHfdOBWsQxs8CCFQ&usg=AOvVaw2rbbhE5aeMHTa3HQ6tfcfk',\n",
       "  'https://www.google.com/preferences?hl=en-IN&fg=1&sa=X&ved=0ahUKEwj3vra8-8r_AhUuiFYBHfdOBWsQ5fUCCFU',\n",
       "  'https://policies.google.com/privacy?hl=en-IN&fg=1',\n",
       "  'https://policies.google.com/terms?hl=en-IN&fg=1',\n",
       "  '/setprefs?hl=en&prev=https://www.google.com/search?q%3Dyahoo%2Bfinance%2BBTC%26tbm%3Dnws%26pccc%3D1&sig=0_fXJXceVkD7QTHxIv8FZMk4d_I1g%3D&cs=2&sa=X&ved=0ahUKEwj3vra8-8r_AhUuiFYBHfdOBWsQjcAJCFY']}"
      ]
     },
     "execution_count": 12,
     "metadata": {},
     "output_type": "execute_result"
    }
   ],
   "source": [
    "raw_urls"
   ]
  },
  {
   "cell_type": "markdown",
   "id": "426f22a3",
   "metadata": {},
   "source": [
    "#### 2) Remove Unwanted URLs"
   ]
  },
  {
   "cell_type": "code",
   "execution_count": 13,
   "id": "e1a8ed42",
   "metadata": {},
   "outputs": [],
   "source": [
    "import re"
   ]
  },
  {
   "cell_type": "code",
   "execution_count": 14,
   "id": "ab3ce576",
   "metadata": {},
   "outputs": [],
   "source": [
    "exclude_list = ['maps', 'policies', 'support', 'accounts', 'preferences']"
   ]
  },
  {
   "cell_type": "code",
   "execution_count": 15,
   "id": "8847e669",
   "metadata": {},
   "outputs": [],
   "source": [
    "def strip_unwanted_urls(urls, exclude_list):\n",
    "    val = []\n",
    "    for url in urls: \n",
    "        if 'https://' in url and not any(exclude_word in url for exclude_word in exclude_list):\n",
    "            res = re.findall(r'(https?://\\S+)', url)[0].split('&')[0]\n",
    "            val.append(res)\n",
    "    return list(set(val))"
   ]
  },
  {
   "cell_type": "code",
   "execution_count": 16,
   "id": "a6bb30c7",
   "metadata": {},
   "outputs": [],
   "source": [
    "cleaned_urls = {}\n",
    "for ticker in monitored_tickers:\n",
    "    cleaned_urls[ticker] = strip_unwanted_urls(raw_urls[ticker], exclude_list)"
   ]
  },
  {
   "cell_type": "code",
   "execution_count": 17,
   "id": "7a7156f3",
   "metadata": {},
   "outputs": [
    {
     "data": {
      "text/plain": [
       "{'GME': ['https://finance.yahoo.com/news/gamestop-discloses-first-quarter-2023-201500165.html',\n",
       "  'https://finance.yahoo.com/news/gen-z-roi-mba-more-181935654.html',\n",
       "  'https://finance.yahoo.com/news/midday-movers-affirm-stitch-fix-141723392.html',\n",
       "  'https://www.google.com/search?q%3Dyahoo%2Bfinance%2BGME%26tbm%3Dnws%26pccc%3D1',\n",
       "  'https://finance.yahoo.com/news/12-best-short-squeeze-stocks-120213885.html',\n",
       "  'https://finance.yahoo.com/news/invesco-p-midcap-400-equal-102008681.html',\n",
       "  'https://ca.finance.yahoo.com/news/gamestop-stock-tanks-after-company-fires-ceo-123910339.html',\n",
       "  'https://finance.yahoo.com/news/debt-ceiling-done-fed-goes-quiet-what-to-watch-this-week-130054402.html',\n",
       "  'https://finance.yahoo.com/news/an-open-letter-to-gamestop-executive-chairman-ryan-cohen-morning-brief-100037724.html',\n",
       "  'https://finance.yahoo.com/news/stocks-rise-sp-500-enters-new-bull-market-stock-market-news-today-200316428.html',\n",
       "  'https://www.thestreet.com/retail/meme-stock-gamestop-just-did-something-impressive'],\n",
       " 'TSLA': ['https://finance.yahoo.com/video/tesla-ev-stocks-lead-rally-205716138.html',\n",
       "  'https://www.google.com/search?q%3Dyahoo%2Bfinance%2BTSLA%26tbm%3Dnws%26pccc%3D1',\n",
       "  'https://finance.yahoo.com/news/ev-stocks-join-ai-names-in-leading-the-stock-market-rally-165234734.html',\n",
       "  'https://finance.yahoo.com/video/musk-focusing-tesla-not-twitter-211635694.html',\n",
       "  'https://ca.finance.yahoo.com/news/tesla-stocks-dazzling-rally-thanks-200311505.html',\n",
       "  'https://finance.yahoo.com/news/1-tesla-loses-bid-overturn-200604380.html',\n",
       "  'https://finance.yahoo.com/news/kevin-oleary-teslas-cybertruck-has-a-really-ugly-look-but-the-demand-is-huge-100022692.html',\n",
       "  'https://finance.yahoo.com/news/tesla-record-run-gains-drives-143055513.html',\n",
       "  'https://finance.yahoo.com/news/tesla-and-apple-arent-the-only-stocks-on-a-sizzling-run--check-out-airline-stocks-160903459.html',\n",
       "  'https://finance.yahoo.com/news/investors-pouring-money-tesla-because-022311782.html',\n",
       "  'https://finance.yahoo.com/news/tesla-stock-surges-as-all-model-3-sedans-now-qualify-for-full-ev-tax-credit-141823296.html'],\n",
       " 'BTC': ['https://uk.finance.yahoo.com/news/bitcoin-price-sam-bankman-fried-trial-us-090726033.html',\n",
       "  'https://finance.yahoo.com/news/one-winner-in-the-secs-clash-with-crypto-bitcoin-162410185.html',\n",
       "  'https://finance.yahoo.com/news/bitcoin-mining-difficulty-rises-2-035731218.html',\n",
       "  'https://finance.yahoo.com/news/bitcoin-miner-crusoe-energy-secures-120000509.html',\n",
       "  'https://finance.yahoo.com/news/crypto-industry-destined-bitcoin-focused-090212070.html',\n",
       "  'https://finance.yahoo.com/video/bitcoin-above-25k-blackrock-etf-143902877.html',\n",
       "  'https://finance.yahoo.com/news/bitcoin-and-tether-sag-as-crypto-markets-face-mounting-pressures-171108426.html',\n",
       "  'https://finance.yahoo.com/news/jack-dorsey-backed-bitcoin-wallet-182935178.html',\n",
       "  'https://www.google.com/search?q%3Dyahoo%2Bfinance%2BBTC%26tbm%3Dnws%26pccc%3D1',\n",
       "  'https://finance.yahoo.com/news/first-mover-asia-large-bitcoin-010654210.html',\n",
       "  'https://finance.yahoo.com/news/bitcoin-regains-ground-reach-25-204244572.html']}"
      ]
     },
     "execution_count": 17,
     "metadata": {},
     "output_type": "execute_result"
    }
   ],
   "source": [
    "cleaned_urls"
   ]
  },
  {
   "cell_type": "markdown",
   "id": "9d959d6c",
   "metadata": {},
   "source": [
    "#### 3) Search and Scrape through all the Cleaned URLS above"
   ]
  },
  {
   "cell_type": "code",
   "execution_count": 18,
   "id": "dc540053",
   "metadata": {},
   "outputs": [],
   "source": [
    "def scrape_and_process(URLs):\n",
    "    ARTICLES = []\n",
    "    for url in URLs:\n",
    "        r = requests.get(url)\n",
    "        soup = BeautifulSoup(r.text, 'html.parser')\n",
    "        paragraphs = soup.find_all('p')\n",
    "        \n",
    "        text = [paragraph.text for paragraph in paragraphs]\n",
    "        words = ' '.join(text).split(' ')[:350]\n",
    "        ARTICLE = ' '.join(words)\n",
    "        ARTICLES.append(ARTICLE)\n",
    "    return ARTICLES"
   ]
  },
  {
   "cell_type": "code",
   "execution_count": 19,
   "id": "29e2453d",
   "metadata": {},
   "outputs": [],
   "source": [
    "articles = {}\n",
    "for ticker in monitored_tickers:\n",
    "    articles[ticker] = scrape_and_process(cleaned_urls[ticker])"
   ]
  },
  {
   "cell_type": "code",
   "execution_count": 20,
   "id": "d3e05031",
   "metadata": {},
   "outputs": [
    {
     "data": {
      "text/plain": [
       "{'GME': ['GRAPEVINE, Texas, June 07, 2023--(BUSINESS WIRE)--GameStop Corp. (NYSE: GME) (\"GameStop\" or the \"Company\") today released financial results for the first quarter ended April 29, 2023. The Company’s condensed and consolidated financial statements, including GAAP and non-GAAP results, are below. The Company’s Form 10-Q and supplemental information can be found at https://investor.gamestop.com. FIRST QUARTER OVERVIEW Net sales were $1.237 billion for the period, compared to $1.378 billion in the prior year\\'s first quarter. Selling, general and administrative (\"SG&A\") expenses were $345.7 million, or 27.9% of net sales for the period, compared to $452.2 million, or 32.8% of net sales, in the prior year\\'s first quarter. Net loss was $50.5 million for the period, compared to a net loss of $157.9 million for the prior year’s first quarter. Transition costs related to European restructuring efforts were $14.5 million for the period. For the second quarter, the Company will continue to incur transition charges. Cash, cash equivalents and marketable securities were $1.310 billion at the close of the quarter. Long-term debt remains limited to one low-interest, unsecured term loan associated with the French government’s response to COVID-19. The Company will not be holding a conference call today. Stockholders can review the Company’s Form 10-Q. NON-GAAP MEASURES AND OTHER METRICS As a supplement to the Company’s financial results presented in accordance with U.S. generally accepted accounting principles (\"GAAP\"), GameStop may use certain non-GAAP measures, such as adjusted SG&A expense, adjusted operating income (loss), adjusted net income (loss), adjusted earnings (loss) per share, adjusted EBITDA and free cash flow. The Company believes these non-GAAP financial measures provide useful information to investors in evaluating the Company’s core operating performance. Adjusted SG&A expense, adjusted operating income (loss), adjusted net income (loss), adjusted earnings (loss) per share and adjusted EBITDA exclude the effect of items such as certain transformation costs, asset impairments, severance, as well as divestiture costs. Free cash flow excludes capital expenditures otherwise included in net cash flows from (used in) operating activities. The Company’s definition and calculation of non-GAAP financial measures may differ from that of other companies. Non-GAAP financial measures should be viewed as',\n",
       "  'What does Gen Z want from business school? A new GMAC report has some answers Gen Z — those born between 1996 and 2012 — is the next major cohort of graduate business students. Already they comprise a huge percentage of graduate management education candidates. They are, in a word, the future — so it’s no wonder that the Graduate Management Admission Council and many other groups are devoting significant effort to finding an answer to the question: What do they want? GMAC’s latest report, released today (June 7), titled Gen Z in the GME Pipeline: Explain Why It’s Worth It, tries to nail down that answer from prospective B-school students in the United States, China, India, and other countries. In it, using both qualitative participant responses and quantitative survey data, GMAC reveals candidates’ attitudes and interests as well as the motivations that spur them and the obstacles that confront them in pursuing graduate business education. (See some of Poets&Quants‘ coverage of past GMAC research on Gen Z here and here.) Of course the Gen Z respondents to GMAC’s new poll vary widely, but in sum: They want strong ROI if they are going to pursue an MBA — but that can mean more than just a high salary. Gen Z makes up nearly one-third of the global population and will make up more than one-quarter of the workforce in Organization for Economic Co-operation and Development countries by 2025. And according to GMAC, Gen Z now comprises more than half of the candidates applying to graduate business education programs. In its latest survey, GMAC communicated primarily through a moderated online community with written, video, and visual participant submissions with 18- to 24-year-old prospective graduate business students in the U.S., China, India, Germany, Peru, and Nigeria. The information they provided was supplemented by quantitative survey research and desk research. The chief findings: “In the classroom, Gen Z want flexibility, real-world application that translates to tangible skills, and opportunities for personal growth through networking and exposure to different perspectives.” Moreover,\\xa0“Gen Z are laser-focused on seeing a return on their investment if they',\n",
       "  \"Investing.com -- Stocks are mixed on Wednesday as investors await next week's Federal Reserve decision on interest rates. Here are the market movers for June 7.  Affirm Holdings Inc (NASDAQ:AFRM)shares rose 5.9% as the buy now pay later payments firm was added as an option to Amazon (NASDAQ:AMZN) Pay.  Stitch Fix (NASDAQ:SFIX)shares rose 28% after the personal styling firm reported better than expected results as cost cutting plans continue to make an impact.  Campbell Soup Company (NYSE:CPB)shares fell 7.5% after the packaged foods company reported as expected revenue in the recent quarter and affirmed guidance for full year earnings of $2.95 to $3 a share, a hint below expectations.  GameStop Corp (NYSE:GME)shares are up 4.8% ahead of the meme stock and video game retailer's earnings report, which is due out after tonight's closing bell. Dave&Buster’s Entertainment (NASDAQ:PLAY)shares rose 18% after the arcade and restaurant chain reported better than expected earnings and announced plans to expand its international footprint. Related Articles Midday movers: Affirm, Stitch Fix, Campbell Soup and more Buttigieg travels to Mexico to meet with president, aviation rating in the air Stock Market Today: Dow ends higher as energy surge helps offset tech stumble\",\n",
       "  '© 2023 - Privacy - Terms',\n",
       "  'Thank you for your patience. Our engineers are working quickly to resolve the issue.',\n",
       "  \"Making its debut on 12/03/2010, smart beta exchange traded fund Invesco S&P MidCap 400 Equal Weight ETF (EWMC) provides investors broad exposure to the Style Box - Mid Cap Blend category of the market. What Are Smart Beta ETFs? Market cap weighted indexes were created to reflect the market, or a specific segment of the market, and the ETF industry has traditionally been dominated by products based on this strategy. Market cap weighted indexes work great for investors who believe in market efficiency. They provide a low-cost, convenient and transparent way of replicating market returns. On the other hand, some investors who believe that it is possible to beat the market by superior stock selection opt to invest in another class of funds that track non-cap weighted strategies--popularly known as smart beta. Based on specific fundamental characteristics, or a combination of such, these indexes attempt to pick stocks that have a better chance of risk-return performance. Methodologies like equal-weighting, one of the simplest options out there, fundamental weighting, and volatility/momentum based weighting are all choices offered to investors in this space, but not all of them can deliver superior returns. Fund Sponsor & Index Managed by Invesco, EWMC has amassed assets over $201.85 million, making it one of the average sized ETFs in the Style Box - Mid Cap Blend. Before fees and expenses, EWMC seeks to match the performance of the S&P MidCap 400 Equal Weight Index. The S&P MidCap 400 Equal Weight Index equally weights mid-cap securities in the S&P MidCap 400 Index. Cost & Other Expenses Investors should also pay attention to an ETF's expense ratio. Lower cost products will produce better results than those with a higher cost, assuming all other metrics remain the same. Operating expenses on an annual basis are 0.40% for this ETF, which makes it on par with most peer products in the space. The fund has a 12-month trailing dividend yield of 1.22%. Sector Exposure and Top Holdings Most ETFs are very transparent products, and disclose their holdings on a daily basis. ETFs also offer diversified exposure, which minimizes single stock\",\n",
       "  'Thank you for your patience. Our engineers are working quickly to resolve the issue.',\n",
       "  'Following a strong jobs report, a signed deal to raise the nation\\'s borrowing limit, and the beginning of the Federal Reserve\\'s quiet period ahead of its June 13-14 policy meeting, investors will get a reprieve of sorts in the week ahead. Investors reading the Fed tea leaves now see the central bank pausing rate hikes in two weeks, but some economists argue the May Jobs report proves the Fed’s job isn’t done. The US economy created more than 300,000 jobs last month, the most since January. On the corporate side, earnings will continue to wind down with results from meme stock favorite GameStop (GME) serving as a highlight. Apple\\'s latest Worldwide Developers Conference on Monday at its headquarters in Cupertino, California will be among the week\\'s biggest events, with the iPhone maker set to reveal its mixed reality headset, among other upgrades across its product line. Yahoo Finance\\'s Dan Howley will be live on the ground with full coverage on Monday. Investors had largely shrugged off any potential market uncertainty related to the debt ceiling over the past week with the market\\'s focus instead focusing to renewed enthusiasm for tech stocks, which barreled higher to close out May. On the week, all three major indexes rose more than 3% with the Nasdaq Composite (^IXIC) pacing gains once again, rising more than 4%. Year-to-date, the Nasdaq Composite (^IXIC) has risen 26.5%, while the S&P 500 (^GSPC) is up 11.5%, and the Dow Jones Industrial Average (^DJI) has gained just less than 2%. The S&P 500 finished last week\\'s trading at its highest level since August 2022, with the team at Bespoke Investment Group noting Friday the benchmark index is now unchanged on a total return basis since the beginning of the Fed\\'s rate hikes in March 2022. On Friday, the May jobs showed the US economy added 339,000 jobs in May while job gains were revised higher for each of the last two months. The unemployment rate rose to 3.7% last month while wage gains cooled to 4.3% over the last year. \"Despite an unexpected increase in the unemployment rate, the',\n",
       "  \"Dear Ryan, In this former analyst’s humble opinion, you are failing mightily at GameStop and it's costing average investors major money. Do better. Way better. This is painful to watch. You have a handpicked board of directors — mostly comprised of people you worked with at Chewy. At Chewy, you created an online retailer that millions of people love. Yet, the magic you found there hasn't fixed GameStop. Some would say the business has gotten worse! First quarter 2023 sales: down 10.3% year over year. First quarter 2023 net loss: $50.5 million versus a net loss of $157.9 million a year ago. In 2022 and 2021 combined, GameStop lost $694.4 million according to your latest annual report. You failed at picking a management team and developing them based on the turnover under your kingdomship. For all his miscues, how couldn't a former Amazon exec in Matt Furlong find some form of success at GameStop? One good quarter maybe? The CFO you picked was canned in July 2022 after about a year on the job. While I am at it, why isn’t there any list of C-suite executives on the GameStop investor page? Showing these bios are standard practice for public companies. All of that's on you as a leader, Ryan. The company remains structurally challenged because of increasing digital game downloads. You still have more than 4,000 retail stores open globally despite more people buying goods and services online. Your push into NFTs failed. Your move to open more fulfillment centers has arguably failed due to top line pressures that aren't going away. Sales of collectibles — a key focus area by management — plunged 22% in the first quarter. There is still no reason for the non-gamer to enter a GameStop store. That's a problem, in my view. Of course, I have not created a huge business like you did at Chewy. Nor have I sold a large business to another company like you did when selling Chewy to Petsmart in 2017. I also haven't taken a company public, as Chewy went in 2019. I commend you on putting\",\n",
       "  'Stocks ended the day higher, and the S&P 500 (^GSPC) entered a bull market on Thursday as investors digested fresh economic data ahead of next week\\'s Federal Reserve meeting and a leadership shakeup at GameStop (GME). The S&P rose 0.62% while the Nasdaq Composite (^IXIC) popped 1.02% and the Dow Jones Industrial Average (^DJI) was up 0.50%, or 168 points. The S&P 500 has now increased more than 20% from its October 2022 lows. The Nasdaq 100 snapped a four-day winning streak on Wednesday as the artificial intelligence-infused rally appears to have hit a standstill. The S&P 500 has been chasing bull-market territory all week, needing a close above 4,292.44. In single stock moves, GameStop, a meme stock favorite, reported first quarter earnings and announced the firing of CEO Matthew Furlong as part of the release. GameStop board chairman Ryan Cohen was named executive chairman. Financially, GameStop\\'s first quarter came in worse than Wall Street had hoped for, with revenue of $1.24 billion coming in short of analysts\\' expectations for $1.4 billion. The company didn\\'t hold an earnings call, typically an industry standard, to explain its quarterly results or the executive shakeup. Shares of the company fell 18% at the market open on Thursday. \"We remain convinced that GameStop is doomed, with declining physical software sales and a shift of sales to subscription services and digital downloads sealing its fate,\" Wedbush managing director Michael Pachter wrote in a note to clients on Thursday. \"While we think that the chain might have some value if run in order to harvest profits, we don’t see a turnaround on the horizon without capable management.\" Meanwhile, shares of Carvana (CVNA) soared on Thursday as the company announced an improved second quarter outlook. The company projected second quarter adjusted EBITDA of $50 million. Analysts had been expecting a loss of $3.6 million, per Bloomberg. Carvana stock gained more than 57% on the news. Amazon (AMZN) helped lead tech higher with shares rising nearly 3%. Analysts at UBS wrote in a note to clients that the tech giant\\'s AI efforts could materially increase Amazon Web Services',\n",
       "  'Please enable JS and disable any ad blocker'],\n",
       " 'TSLA': ['Thank you for your patience. Our engineers are working quickly to resolve the issue.',\n",
       "  '© 2023 - Privacy - Terms',\n",
       "  'The S&P 500 entered a new bull market last week. But the gains during this year\\'s run higher have been led by the tech-heavy Nasdaq and investors hyper for artificial intelligence plays. And now, electric vehicle stocks have joined the AI-led mania with the market rally continuing as we near the end of the month, the quarter, and the first half of the year. Tesla (TSLA) has seen its market cap move back over $800 billion as the stock more than doubled this year. Through Tuesday\\'s close shares had finished higher during 13 straight trading sessions. Tesla stock closed .74% lower on Wednesday. In recent days, smaller EV rivals have seen ever larger stock moves as the AI-led market rally has spread into other areas of the next-gen tech trade. \"The market wants to believe Tesla is an AI name first, an auto company second,\" Morgan Stanley analyst Adam Jonas wrote in a note to investors earlier this month.  Tesla has also been buoyed by recently announced electric-charging tie-ups with automakers General Motors (GM) and Ford (F). These stocks have also gained more than 5% in recent days, a notable move for the typically more staid legacy automaker names. Expectations the Federal Reserve will pause its aggressive rate hikes on the heels of cooling inflation data has also helped fuel the EV rally as part of a broader risk-on trade. Chinese EV maker XPeng (XPEV) has seen its stock rise more than 25% over the last four days while shares of rival Nio (NIO) are trading about 14% during the same period. On Tuesday, China\\'s central bank announced a cut to its short term borrowing rate in an effort to boost its economy. Even more speculative names like Nikola (NKLA) have gained in recent days. Share of the battery- and hydrogen-powered electric truck maker extended gains for a sixth consecutive session on Wednesday, rising more than 20% at one point. Over the past four days the stock is up roughly 70%. Nikola shares have doubled in price since hitting an all time low of $0.52/share on June 6. Last',\n",
       "  'Thank you for your patience. Our engineers are working quickly to resolve the issue.',\n",
       "  'Thank you for your patience. Our engineers are working quickly to resolve the issue.',\n",
       "  '(Add details of ruling) June 16 (Reuters) - A federal court in Louisiana on Friday dismissed Tesla Inc\\'s complaint against a state restriction on direct car sales, according to a ruling. Last year, Tesla filed a lawsuit to challenge Louisiana\\'s refusal to allow the company to sell vehicles directly to consumers, calling the U.S. state\\'s move protectionist and anticompetitive. The case is part of Tesla\\'s strategy of reversing direct sales bans in some states against the electric carmaker, which bypassed traditional car dealerships to sell vehicles to consumers online or at its own stores. “(T)he direct sales ban applies equally to all manufacturers, and Tesla has alleged no facts regarding anti-Tesla animus on the part of the Louisiana Legislature,\" the ruling said. (Reporting by Mike Scarcella and Hyunjoo Jin; Editing by Leslie Adler and Jonathan Oatis)',\n",
       "  '\"Shark Tank\" star and O’Shares Investments Chairman Kevin O’Leary believes Tesla\\'s (TSLA) Cybertruck is setting the electric-vehicle maker up for another big shift in its fortunes. \"It\\'s going to be a boom, because that crazy-looking vehicle has already shown its popularity on preorders two years,\" O’Leary told Yahoo Finance Live. \"It\\'s a very interesting vehicle. It\\'s got a really ugly look. Ugly is interesting. And, you know, to be honest with you, I\\'ve got investments in providers that are providing technology for that truck. And we know the demand is huge,\" he added. The design may be giving off tech-forward brutalist vibes, but that could be positive overall for its production efficiency. Tasha Keeney, director of investment analysis & institutional strategies at ARK Invest, said the vehicle is \"the most misunderstood vehicle release that Tesla has had.\" \"This is really a genius design. It\\'s much more cost effective. It\\'s unlike any other car that we\\'ve seen out there— and from an aesthetic basis,\" Keeney told Yahoo Finance Live. \"But really, because they\\'re, you know, using just one piece of material, they\\'re not using paint, it\\'s going to be a lot more cost effective and easier to produce for them, because we know that the paint shop is, you know, somewhat of a choke point for throughput in an automotive factory,\" Keeney added. Tesla CEO Elon Musk expects the long-awaited Cybertruck will hit mass production in 2023. He has touted that orders crossed 250,000 in the first week of availability — but media reports estimate the total number of reservations are north of 1.5 million for the model. The number of orders received may translate into added margin for the auto manufacturer, in the eyes of O’Leary. \"The one thing I really like about the story that I learned yesterday on the whole Elon thing, the margins on this truck could be really high,\" O’Leary said. \"I mean, this is going to be— because they\\'ve had so much efficiency in manufacturing costs since they announced the truck. They\\'re probably picking up, you know, 10% to 12% more margin on that thing.\"',\n",
       "  '(Bloomberg) -- The clouds are finally parting for Tesla Inc. investors who stuck with the electric-vehicle maker through a rough ride. A rush of good news for the company and the return of bullish market conviction have put the stock on pace to more than double this year. Most Read from Bloomberg Oil Traders Are Daring to Defy Market Kingpin Saudi Arabia Jeff Bezos Has Gained $10 on Mystery Purchase of One Amazon Share As Fed Signals Rate Pause, Powell Will Have to Placate Hawks Odey Sacked From His Hedge Fund Firm After Assault Allegations UK Political Drama Intensifies as Sturgeon Arrested in SNP Probe The Elon Musk-led EV company has added more than $194 billion to its market valuation in an 11-day run, as the shares tied with their longest-ever winning streak. It is only the second time in Tesla’s history that the shares have managed this feat. Tesla has been a “wild stock” over the years, but it has only posted two other double-digit winning streaks in its history, according to Bespoke Investment Group. The first was 10 trading days ending in April 2020, while the second —and the longest one - was less than a year later, in January 2021. Tesla shares closed up 4.1% at $244.40 Friday, bringing this year’s surge to 98%. This week’s 14% advance was the best since January. Friday’s sharp rally came after General Motors Co. on Thursday said it will adapt its EVs to Tesla’s Superchargers, following a similar move from Ford Motor Co., and all but ensuring it will become an industry standard in the US. “More people buying EVs (whether they be GM or Ford for that matter) increases the likelihood that they buy Teslas,” RBC Capital Markets analyst Tom Narayan wrote in a note on Thursday. “A rising tide lifts all boats and if consumers see their neighbor having an EV, they are more likely to buy one themselves - and this increases the chances they buy a Tesla.” Still, this is only the latest in a string of EV and related news that have contributed to Tesla’s',\n",
       "  'Tesla stock (TSLA) and Apple stock (AAPL) aren\\'t the only big names lighting up the market right now — get a look at the take-off in shares of the major airlines as the summer travel season heats up. Delta Air Lines stock (DAL) closed in on its 13th straight day of gains on Tuesday, rising above 2% in midday trading. The stock has climbed more than 23% in the past month, according to Yahoo Finance data. United Airlines (UAL) is the second top performer in the last month, up 17%. JetBlue (JBLU) and American Airlines (AAL) are up roughly 15% in the past month. Southwest (LUV) is tailing behind in the airline rally with a still respectable one-month gain of 12%. There are likely two factors behind the airline stock propulsion. First, is the raw demand to travel at the moment — which appears to have been strong for Memorial Day weekend and now into July 4. \"I was just looking at some July 4 data,\" Marriott International (MAR) CEO Anthony Capuano told Yahoo Finance Live (video above) in an interview last week. \"Revenue per available room is up about 10%. Forward bookings through the end of the year look particularly strong.\" The bullish outlook was echoed by Marriott\\'s long-time rival, Hilton (HLT). \"Demand is strong across the board, I don\\'t care where you are in the world,\" Hilton CFO Kevin Jacobs said on Yahoo Finance Live. \"We don\\'t have months and months of visibility in our business, but from what we can see it\\'s going to be another strong summer.\" Flight searches are up 25% overall for June through August compared to the same time last year, per data from travel booking portal Expedia (EXPE). Interest is up by triple digits for more expensive trips to international destinations across Europe and Asia. The aforementioned American Airlines recently lifted its second quarter outlook, citing continued strong demand and lower fuel costs. \"We\\'re seeing a ton of demand,\" Expedia CEO Peter Kern told Yahoo Finance. The second factor at play is the plunge in jet fuel prices. Jet fuel prices have',\n",
       "  'Investors are pouring cash into Tesla stock as part of a broader bet on the future of AI. Vanda Research said retail purchases of EV stocks other than Tesla made up just 6% of average daily Tesla purchases. Vanda says there are signs Tesla is catching a ride on the wave of AI hype rolling through the stock market. Retail investors are dumping money into Tesla shares, with the stock increasingly seen as a bet on artificial intelligence in addition to the leader in the electric vehicle space. According to Vanda Research, retail traders have ramped up their bullish bets on the EV maker this year, with the 10-day moving average of retail flows into Tesla far outpacing retail flows into other EV stocks, as well as flows into AI stocks, per Vanda data. Retail purchases of EV stocks other than Tesla make up just 6% of average daily Tesla purchases, and make up just 5%-10% of average daily Tesla purchases compared to the fourth quarter of 2020 and the first quarter of 2021, when Tesla inflows peaked. But it\\'s not just a bet that Tesla will be the top dog in the EV fight that\\'s driving more investment, Vanda says. The blistering rally in Tesla shares in 2023 is partly attributable to the excitement for artificial intelligence technology, which has taken large-cap tech stocks higher through 2023. \"This hardly looks like a resurgence of the EV theme from a retail perspective,\" the research group said in a note on Thursday. \"Hence, we can confidently say that retail investors perceive TSLA as an AI proxy more than an EV story, at least for now.\" Institutional investors have also ramped up their Tesla bets, the note added, a sign that the appetite for Tesla stock has room to grow. Though Tesla CEO Elon Musk has long been vocal about the dangers of AI, he\\'s hinted for months that Tesla could incorporate artificial intelligence into its own business amid the hype for ChatGPT. In April, he quietly set up a new AI startup in Nevada called X.ai, which he suggested could roll',\n",
       "  'Tesla stock (TSLA) is surging today, up as much as 4% in early trading and hitting highs not seen since early October of last year, as investor bullishness grows following news that all Model 3 sedans now qualify for the full federal electric vehicle tax credits. Tesla stock is on track for its ninth straight day of gains, its longest winning streak since January 2021. Earlier this week Tesla announced on its website that all versions of the Model 3 sedan now qualify for the full federal EV tax credit of $7,500; previously the cheaper Model 3 Rear-Wheel Drive (RWD) version qualified for half the amount. The federal government confirmed the announcement on its fueleconomy.gov website. The federal government’s requirements for the EV tax credit mandate that 40% of the critical minerals be extracted in the US or a country with a free trade agreement and 50% of the value of the battery components must be manufactured or assembled in North America. Though no reason was given for the change, it can be presumed Tesla updated where it was sourcing the materials for the Model 3 RWD batteries or where it assembles the packs. Prior to the announcement, Tesla was reportedly using LFP (lithium-ion phosphate) battery cells made by China’s CATL. Nevertheless, the inclusion of the full federal tax credit means the Tesla Model 3 RWD now costs $32,740 if buyers meet criteria including income restrictions and MSRP caps ($55,000 for cars; $80,000 for trucks and SUVs). While $32,740 is a relative deal in a new car market where the average price is around $45,000, more incentives can be had on EVs like the Model 3 that pull prices even lower. New York state offers up to $2,000 off EVs via its Drive Clean Rebate for which the Model 3 qualifies. In California, the state offers an even bigger incentive — a $7,500 tax rebate that depends on income and other requirements. Inclusion of both the federal and California state incentives drops the Model 3 down to $25,240 - which Reuters notes is below the cost of a new Toyota'],\n",
       " 'BTC': ['Thank you for your patience. Our engineers are working quickly to resolve the issue.',\n",
       "  'The Securities and Exchange is suing Coinbase (COIN) and Binance because it believes many cryptocurrencies traded on those exchanges are securities that should be registered with the agency. There is one big exception: bitcoin. “The SEC has been extremely clear. Bitcoin is not a security,” Steven Lubka, managing director of Swan Bitcoin, told Yahoo Finance. “We’re very, very confident that never changes.” That belief is encouraging investors to stick with the world’s largest cryptocurrency despite the industry turmoil triggered by new SEC lawsuits against the biggest cryptocurrency exchanges in the world and the US. Bitcoin (BTC-USD) was up 5% Wednesday at 9:30 am New York time to $26,759, before settling back to $26,400 by noon. Its market share, a ratio of the coin\\'s market capitalization over the total crypto market capitalization, rose 0.85% over the same period, suggesting crypto investors are seeking it out as a safe bet within the market. Bitcoin is up 58% year to date, while still down by roughly the same amount from its November 2021 peak of $68,790. Some bitcoin proponents expressed their optimism on social media, suggesting their favorite digital asset could benefit amid the legal battles. Corey Klippsten, an outspoken critic of the larger crypto ecosystem and CEO of bitcoin financial services firm Swan Bitcoin, tweeted a graphic of bitcoin’s recovery this week and added a sarcastic: “Oh noes! Whatever is bitcoin going to do???!” Pierre Rochard of bitcoin miner Riot Platforms (RIOT) tweeted that Coinbase should \"pivot back to being focused on #Bitcoin.\" Twitter co-founder Jack Dorsey then attached the Rochard comment to his Twitter feed and added a hundred points emoji. Coinbase does rely on bitcoin for roughly one-third of its trading volume and transaction revenue. The SEC\\'s framework for evaluating digital assets as securities relies on the so-called Howey Test. That test measures by how much an asset is \"an investment of money in a common enterprise with an expectation of profits to come solely from the efforts of others.\" Bitcoin was created by anonymous software developer Satoshi Nakamoto in January 2009. Many of the other digital coins that followed',\n",
       "  'Bitcoin’s mining difficulty level rose 2.18% on Wednesday to an all-time high. The level changes every two weeks and measures the additional computing power a miner has to use to verify transactions on a block. A higher difficulty indicates it is more competitive to mine Bitcoin, reducing profit. The network’s hashrate also increased to a record high. See related article: What’s next for crypto miners after US debt ceiling deal? The mining difficulty reading came in at 52.35 trillion at block height 794,304 in Wednesday’s adjustment. That follows a 3.4% rise in the previous adjustment on June 1, according to data from BTC.com. The difficulty of mining Bitcoin typically rises when more miners are active, which increases the competition for rewards in Bitcoin in return for validating transactions on the network. The higher the difficulty, the less chance a miner has to secure an entire block on the chain, which in turn can reduce a miner’s profitability. Mining difficulty adjustments are correlated to changes in hashrate, the level of computing power used for mining. “In short, difficulty follows hashrate up or down, and hashrate is driven by the overall profitability of building and operating bitcoin data centers,” Andrew Webber, chief of Digital Power Optimization that works with power producers to deploy Bitcoin mining operations, told Forkast in an emailed response earlier this month. “If Bitcoin spot price goes higher, it means larger profits for miners.” Bitcoin’s hashrate was at around 392.6 exahashes per second on Wednesday, an increase from the 375.4 exahashes recorded during the previous adjustment on June 1, data from Blockchain.com shows. Bitcoin fell 3.63% to US$25,045 in the last 24 hours to 11:10 a.m. in Hong Kong, but it was up about 51% so far this year, according to data from CoinMarketCap. The world’s largest cryptocurrency by market capitalization lost 5.01% in value over the past seven days. See related article: Tether stablecoin issuer taps Uruguay for Bitcoin mining using renewable energy',\n",
       "  'Bitcoin miner Crusoe Energy has sold 50 BTC ($1.3 million) of future revenue on newly launched liquidity platform Block Green, the two firms told CoinDesk. Switzerland-based Block Green has built a marketplace where liquidity providers looking for bitcoin-native investments can buy future hashrate, or computing power, over a specified period of time. The liquidity platform includes “know-your-miner” information about the miner\\'s financials and operations. The Crusoe transaction is the largest to date on the platform, while another one for 7.5 BTC of Merkle Standard\\'s hashrate closed this week. Under the deal, Crusoe will direct bitcoin rewards from 220 petahash/second (PH/s) of mining over 90 days to Swissborg, a Switzerland-based crypto exchange. Block Green focused on \"offering attractive and scalable yields to bitcoin holders,\" which has \"triggered a lot of demand from institutions holding bitcoin\" given that bitcoin yields offered elsewhere remain low, said Sebastien Hess, CEO and co-founder. \"The biggest challenge with hashpower sales has been finding natural buyers,\" and Block Green has \"prioritized finding holders of bitcoin who are looking to find a way to generate a yield,\" said Chase Lochmiller, CEO and co-founder of Crusoe. The platform currently hosts 40% of the largest publicly traded bitcoin miners and is onboarding more every week, said Hess. It is also working on a sustainability evaluation framework for miners\\' operations. There is a \"growing demand for green BTC among LPs, who are even willing to pay a premium for it,\" said Hess. Read more: Here Are Six New Projects Looking to Mitigate Bitcoin Mining’s Energy Footprint',\n",
       "  'Business-intelligence firm MicroStrategy\\'s (MSTR) Founder and Executive Chairman Michael Saylor has said recent enforcement actions by U.S. regulators have made it clear that the crypto industry is destined to be rationalized down to a bitcoin (BTC)-focused industry. \"MicroStrategy\\'s views since 2020 have been that the only institutional grade asset is bitcoin,\" said Saylor in an interview with Bloomberg on Tuesday. \"It\\'s pretty clear that the regulators don\\'t see a legitimate path forward for cryptocurrencies ... And so the entire industry is kind of destined to be rationalized down to a bitcoin-focused industry with maybe half a dozen to a dozen other proof of work tokens.\" Last week, the U.S. Security and Exchange Commission (SEC) filed lawsuits against Binance and Coinbase, the two largest crypto exchanges by market cap. A total of 19 tokens have been mentioned in the filings. Bitcoin isn\\'t one of them. Previously, SEC chair Gary Gensler has said that bitcoin (BTC) is a commodity. Saylor\\'s MicroStrategy began buying bitcoin in 2020 while calling the cryptocurrency a million times better store of value than gold. The company now holds approximately 140,000 bitcoin worth about $4 billion. In March 2023, Saylor lost a bid to dismiss claims that he failed to pay personal income taxes, interest and penalties due for Washington, D.C. However, the court dismissed claims that Saylor and MicroStrategy had conspired to violate the law. Saylor said that since 25,000 other cryptocurrencies (approximately) have been angling to position themselves as bitcoin or a better bitcoin, the public now understands that bitcoin is the next bitcoin. He said the \"next logical step\" is for bitcoin to multiply 10 times in value to $250,000. \"Eventually, I have confidence that the crypto exchanges will come around to realising that bitcoin really is the dominant asset in this space, and their business models are fine when bitcoin goes up by a factor of 10,\" Saylor said. Read More: MicroStrategy Founder Michael Saylor Loses Court Bid to Dismiss DC Tax Evasion Claims  ',\n",
       "  'Thank you for your patience. Our engineers are working quickly to resolve the issue.',\n",
       "  'Major cryptocurrencies faced renewed pressure Thursday as the industry grappled with new challenges on numerous fronts. Bitcoin (BTC-USD), the largest digital coin, slipped 4% and fell to its lowest level in the past three months. Other major cryptocurrencies dipped, with ether (ETH-USD) and BNB (BNB-USD) falling more than 5% and a stablecoin called tether going below its crucial $1 price. Those drops dragged the total market value for all crypto assets to its lowest level since the banking turmoil began in March, according to Coinmarketcap. Publicly traded crypto companies also fell, including the stock of Coinbase Global (COIN). Other crypto stocks including MicroStrategy (MSTR), Riot Platforms (RIOT), and Marathon Digital (MARA) sold off as well. The new price pressures follow assurances from the Federal Reserve that it isn’t done hiking interest rates this year along with reports that crypto lending platforms Delio and Haru paused withdrawals after facing heightened requests from customers. Regulators also are turning up the heat on the industry with two new lawsuits filed by the Securities and Exchange Commission last week against crypto exchanges Coinbase and Binance, alleging that 19 specific cryptocurrencies are securities and thus should be registered with the SEC. Those tokens — which include BNB, SOL, ADA, and MATIC — have fallen 10-14% since the lawsuits. \"Until the regulatory environment is better, cryptos might struggle here,\" Oanda market analyst Edward Moya said Thursday. The multiple pressure points leave the industry with another problem: a lot of sellers and not enough buyers. Major trading firms that once might have acted as market makers have retrenched over the last year. In the last week trading volumes have fallen on Coinbase and Binance. Liquidity is also lower on Binance\\'s US-affiliated platform, Binance.US. The amount of money available for trading on Binance\\'s US-affiliated platform fell 75% following last week\\'s SEC charges, according to Kaiko Research. \"Everything is coming together all at once and we have thin liquidity in markets now,\" crypto investor and entrepreneur Thomas Dunleavy told Yahoo Finance. Another sign of increased stress is the pressure on tether (USDT), the market’s largest dollar-pegged stablecoin by market',\n",
       "  'Jack Dorsey’s FinTech company Block (SQ) will integrate its new self-custody bitcoin wallet, Bitkey, with its financial services platform Cashapp and the cryptocurrency exchange Coinbase. Public beta testing for the wallet will commence in a few weeks with a global launch expected later this year, according to a blog post on Wednesday by the company. Coinbase is the largest cryptocurrency exchange in the U.S. by trading volume and Cashapp is Block’s own financial services platform that offers payments, stocks and bitcoin in a single app. With the new integrations, Bitkey users will be able to buy and sell bitcoin (BTC) via Cashapp and Coinbase directly from within the wallet’s app. Read more: Jack Dorsey-backed TBD Launches New Web5 Toolkit to Decentralize the Internet  Bitkey is a multi-signature hardware wallet device that comes with a set of recovery tools and a mobile app. The full Bitkey product suite is expected to launch later this year in the U.S., Canada, the U.K., Brazil, Australia and other global markets. “Back in March, we explained how partners can contribute to Bitkey’s mission to empower the next 100 million people to truly own and manage their money with bitcoin,” the blog post states. “These partnerships represent a key step towards helping customers have more control and ownership over their financial lives with bitcoin self-custody.”',\n",
       "  '© 2023 - Privacy - Terms',\n",
       "  \"Good morning. Here’s what’s happening: Prices: Bitcoin and other cryptos stabilize after Wednesday afternoon dip. BTC regains $25K. Insights: Increasing U.S. regulatory scrutiny leaves large bitcoin holders unmoved. CoinDesk Market Index (CMI) 1,068  −37.0 ▼ 3.4%   Bitcoin (BTC) $25,177  −792.9 ▼ 3.1%   Ethereum (ETH) $1,654  −88.3 ▼ 5.1%   S&P 500 4,372.59  +3.6 ▲ 0.1%   Gold $1,953  +8.2 ▲ 0.4%   Nikkei 225 33,502.42  +483.8 ▲ 1.5%   BTC/ETH prices per CoinDesk Indices, as of 7 a.m. ET (11 a.m. UTC) CoinDesk Market Index (CMI) 1,068   −37.0 ▼ 3.4%   Bitcoin (BTC) $25,177   −792.9 ▼ 3.1%   Ethereum (ETH) $1,654   −88.3 ▼ 5.1%   S&P 500 4,372.59   +3.6 ▲ 0.1%   Gold $1,953   +8.2 ▲ 0.4%   Nikkei 225 33,502.42   +483.8 ▲ 1.5%   BTC/ETH prices per CoinDesk Indices, as of 7 a.m. ET (11 a.m. UTC) Bitcoin Regains $25K After Dip Bitcoin regained $25,000 after a late Wednesday dip, fueled by fears about a renewal of central bank hawkishness later this year, sent the price below the threshold. BTC was recently trading at about $25,171, off 3.1% over the past four hours, part of a wider crypto selloff. The largest cryptocurrency in market value had been traveling comfortably just below $26,000 for much of the past five days as markets awaited the latest interest rate decision by the U.S. central bank and continued to chew over last week's U.S. Securities and Exchange lawsuits against crypto exchanges Binance and Coinbase. The Federal Reserve elected to suspend rate hikes, but comments by bank Chair Jerome Powell following the announcement appeared to spook markets. Powell reiterated the Fed's commitment to sink annual inflation to a target 2.5%. It currently stands at 4%. But critics of bank policy say that the focus on prices risks sending the economy into a recession. Just as equity markets were closing a lackluster day, digital assets plunged. Ether, the second largest crypto by market\",\n",
       "  'A day after bitcoin dipped to a three-month low, crypto investors remained jittery, keeping bitcoin and most major altcoins in the doldrums and knocking Tether’s USDT stablecoin from its $1 peg. Bitcoin was recently trading at $25,239, roughly flat over the past 24 hours after spending most of Thursday in negative territory. On Wednesday BTC tumbled below this threshold for the first time since mid-March, according to CoinDesk Indices, as markets recoiled from a recommitment to monetary hawkishness from the Federal Reserve even as the central bank paused interest rate hikes for the first time in 14 months. The largest cryptocurrency by market cap had been traveling closer to $26,000 for weeks. Ether, the second largest crypto in market value, was similarly sluggish to recently change hands at about $1,655, also about flat from Wednesday, same time. Similar to BTC, ETH hit a three-month low on Wednesday. Meanwhile, Tether’s USDT stablecoin deviated from its $1 dollar peg early Thursday (ET) amid a sell-off on the popular Uniswap and Curve pools. USDT dropped as low as $0.9968, according to CoinMarketCap data. The token was recently trading at $0.999. Read More: USDT Selling on Curve, Uniswap Spooks Traders Amid Bitcoin Drop “This has been a very nervous time, with a lot of regulatory concerns now being compounded into concerns about Tether,” Riyad Carey, a research analyst at digital assets data provider Kaiko, wrote to CoinDesk in a Twitter message. “Its depeg this morning has severely rattled markets, given that its dominance has increased significantly in the past few months.” Carey added: “It was yet another consequence of falling liquidity; a big reason for its depeg was the massive outflow of liquidity from the (Curve) 3pool.” Among other cryptos with the largest market caps, MATIC, the token of the smart contracts platform Polygon, recently plunged more than 5%. The U.S. Securities and Exchange (SEC) mentioned MATIC among 19 cryptos in its lawsuits against crypto exchange giants Binance and Coinbase last week. The CoinDesk Market Index, a measure of crypto markets performance, was recently down nearly 3%. Cryptos’ fade over the past two days']}"
      ]
     },
     "execution_count": 20,
     "metadata": {},
     "output_type": "execute_result"
    }
   ],
   "source": [
    "articles"
   ]
  },
  {
   "cell_type": "code",
   "execution_count": 21,
   "id": "cd63aea3",
   "metadata": {},
   "outputs": [],
   "source": [
    "def summarize(articles):\n",
    "    summaries = []\n",
    "    for ARTICLE in articles:\n",
    "        input_ids = tokenizer.encode(ARTICLE, return_tensors='pt')\n",
    "        output = model.generate(input_ids, max_length = 55, num_beams = 5, early_stopping=True)\n",
    "        summary = tokenizer.decode(output[0], skip_special_tokens = True)\n",
    "        summaries.append(summary)\n",
    "    return summaries"
   ]
  },
  {
   "cell_type": "code",
   "execution_count": 22,
   "id": "4ad79ef5",
   "metadata": {},
   "outputs": [],
   "source": [
    "summaries = {}\n",
    "for ticker in monitored_tickers:\n",
    "    summaries[ticker] = summarize(articles[ticker])"
   ]
  },
  {
   "cell_type": "code",
   "execution_count": 23,
   "id": "2a9708d4",
   "metadata": {},
   "outputs": [
    {
     "data": {
      "text/plain": [
       "{'GME': ['Net loss was $50.5 million for the period, compared to a loss of $157.9 million for the prior year’s first quarter.',\n",
       "  'Report tries to nail down what candidates want from an MBA. More than half of Gen Z candidates applying to MBA programs.',\n",
       "  'Affirm, Stitch Fix, Campbell Soup report better-than-expected results.',\n",
       "  'All images are copyrighted.',\n",
       "  'We are aware of the issue and are working to resolve it.',\n",
       "  'EWMC seeks to replicate the performance of the S&P MidCap 400 Equal Weight Index.',\n",
       "  'We are aware of the issue and are working to resolve it.',\n",
       "  'Apple’s Worldwide Developers Conference on Monday. Earnings will continue to wind down with results from meme stock favorite GameStop',\n",
       "  'Ryan, I’m writing to express frustration with your management team and business.',\n",
       "  \"Investors digested fresh economic data ahead of next week's Fed meeting.\",\n",
       "  '.'],\n",
       " 'TSLA': ['We are aware of the issue and are working to resolve it.',\n",
       "  'All images are copyrighted.',\n",
       "  'Shares of smaller EV rivals have rallied in recent days. Tesla has seen its market cap move back over $800 billion',\n",
       "  'We are aware of the issue and are working to resolve it.',\n",
       "  'We are aware of the issue and are working to resolve it.',\n",
       "  'Tesla had sought to overturn ban on direct car sales. Claim was part of electric carmaker’s strategy to overturn bans',\n",
       "  '‘It’s going to be a boom,’ O’Leary says of new truck. Model could add 10% to 12% to Tesla’s margins',\n",
       "  'EV maker has added $194 billion to market valuation in 11 days. GM’s decision to adapt Superchargers to Tesla’s network',\n",
       "  'Raw demand to travel has been strong for Memorial Day weekend and now into July.',\n",
       "  'Retail traders are dumping EV stocks, Vanda says. Musk has long been vocal about the dangers of AI',\n",
       "  'All versions of the Model 3 now qualify for full federal EV tax credit. Tesla Model 3 RWD version now costs $32,740 with full credit.'],\n",
       " 'BTC': ['We are aware of the issue and are working to resolve it.',\n",
       "  '‘Extremely clear,’ Swan Bitcoin’s Lubka says. Coin up 58% year to date, still down by roughly the same amount',\n",
       "  'Mining difficulty changes every two weeks. Network’s hashrate rises to a record high on Wednesday',\n",
       "  'Crusoe sold 50 BTC of future revenue on platform. Switzerland-based Block Green has built marketplace for future hashrate sales',\n",
       "  'MicroStrategy founder says crypto industry destined to be rationalized down. Saylor says public now understands that bitcoin is the ‘next bitcoin’',\n",
       "  'We are aware of the issue and are working to resolve it.',\n",
       "  'Bitcoin falls to lowest level in three months, Ether and BNB drop. Regulators filing new lawsuits, liquidity concerns',\n",
       "  'Public beta testing for wallet to begin in a few weeks. Global launch expected later this year',\n",
       "  'All images are copyrighted.',\n",
       "  'CoinDesk Market Index (CMI) 1,068 37.0  3.4% Bitcoin (BTC) $25,177 792.9',\n",
       "  'USDT stablecoin depegged from $1 dollar peg amid sell-off on Uniswap and Curve pools.']}"
      ]
     },
     "execution_count": 23,
     "metadata": {},
     "output_type": "execute_result"
    }
   ],
   "source": [
    "summaries"
   ]
  },
  {
   "cell_type": "code",
   "execution_count": 24,
   "id": "9cd96b1d",
   "metadata": {},
   "outputs": [
    {
     "data": {
      "text/plain": [
       "['We are aware of the issue and are working to resolve it.',\n",
       " 'All images are copyrighted.',\n",
       " 'Shares of smaller EV rivals have rallied in recent days. Tesla has seen its market cap move back over $800 billion',\n",
       " 'We are aware of the issue and are working to resolve it.',\n",
       " 'We are aware of the issue and are working to resolve it.',\n",
       " 'Tesla had sought to overturn ban on direct car sales. Claim was part of electric carmaker’s strategy to overturn bans',\n",
       " '‘It’s going to be a boom,’ O’Leary says of new truck. Model could add 10% to 12% to Tesla’s margins',\n",
       " 'EV maker has added $194 billion to market valuation in 11 days. GM’s decision to adapt Superchargers to Tesla’s network',\n",
       " 'Raw demand to travel has been strong for Memorial Day weekend and now into July.',\n",
       " 'Retail traders are dumping EV stocks, Vanda says. Musk has long been vocal about the dangers of AI',\n",
       " 'All versions of the Model 3 now qualify for full federal EV tax credit. Tesla Model 3 RWD version now costs $32,740 with full credit.']"
      ]
     },
     "execution_count": 24,
     "metadata": {},
     "output_type": "execute_result"
    }
   ],
   "source": [
    "summaries['TSLA']"
   ]
  },
  {
   "cell_type": "markdown",
   "id": "3da3fa7f",
   "metadata": {},
   "source": [
    "### Adding Sentiment Analysis Pipeline"
   ]
  },
  {
   "cell_type": "code",
   "execution_count": 25,
   "id": "66b21415",
   "metadata": {},
   "outputs": [
    {
     "name": "stderr",
     "output_type": "stream",
     "text": [
      "No model was supplied, defaulted to distilbert-base-uncased-finetuned-sst-2-english and revision af0f99b (https://huggingface.co/distilbert-base-uncased-finetuned-sst-2-english).\n",
      "Using a pipeline without specifying a model name and revision in production is not recommended.\n",
      "WARNING[XFORMERS]: xFormers can't load C++/CUDA extensions. xFormers was built for:\n",
      "    PyTorch 2.0.1+cu118 with CUDA 1108 (you have 2.0.1+cpu)\n",
      "    Python  3.9.13 (you have 3.9.13)\n",
      "  Please reinstall xformers (see https://github.com/facebookresearch/xformers#installing-xformers)\n",
      "  Memory-efficient attention, SwiGLU, sparse and more won't be available.\n",
      "  Set XFORMERS_MORE_DETAILS=1 for more details\n"
     ]
    }
   ],
   "source": [
    "from transformers import pipeline\n",
    "sentiment = pipeline('sentiment-analysis')"
   ]
  },
  {
   "cell_type": "code",
   "execution_count": 26,
   "id": "f275009d",
   "metadata": {},
   "outputs": [
    {
     "name": "stdout",
     "output_type": "stream",
     "text": [
      "Requirement already satisfied: xformers in c:\\users\\prath\\anaconda3\\lib\\site-packages (0.0.20)\n",
      "Requirement already satisfied: numpy in c:\\users\\prath\\anaconda3\\lib\\site-packages (from xformers) (1.24.2)\n",
      "Requirement already satisfied: pyre-extensions==0.0.29 in c:\\users\\prath\\anaconda3\\lib\\site-packages (from xformers) (0.0.29)\n",
      "Requirement already satisfied: torch==2.0.1 in c:\\users\\prath\\anaconda3\\lib\\site-packages (from xformers) (2.0.1)\n",
      "Requirement already satisfied: typing-inspect in c:\\users\\prath\\anaconda3\\lib\\site-packages (from pyre-extensions==0.0.29->xformers) (0.9.0)\n",
      "Requirement already satisfied: typing-extensions in c:\\users\\prath\\anaconda3\\lib\\site-packages (from pyre-extensions==0.0.29->xformers) (4.3.0)\n",
      "Requirement already satisfied: jinja2 in c:\\users\\prath\\anaconda3\\lib\\site-packages (from torch==2.0.1->xformers) (2.11.3)\n",
      "Requirement already satisfied: sympy in c:\\users\\prath\\anaconda3\\lib\\site-packages (from torch==2.0.1->xformers) (1.10.1)\n",
      "Requirement already satisfied: filelock in c:\\users\\prath\\anaconda3\\lib\\site-packages (from torch==2.0.1->xformers) (3.6.0)\n",
      "Requirement already satisfied: networkx in c:\\users\\prath\\anaconda3\\lib\\site-packages (from torch==2.0.1->xformers) (2.8.4)\n",
      "Requirement already satisfied: MarkupSafe>=0.23 in c:\\users\\prath\\anaconda3\\lib\\site-packages (from jinja2->torch==2.0.1->xformers) (2.0.1)\n",
      "Requirement already satisfied: mpmath>=0.19 in c:\\users\\prath\\anaconda3\\lib\\site-packages (from sympy->torch==2.0.1->xformers) (1.2.1)\n",
      "Requirement already satisfied: mypy-extensions>=0.3.0 in c:\\users\\prath\\anaconda3\\lib\\site-packages (from typing-inspect->pyre-extensions==0.0.29->xformers) (0.4.3)\n"
     ]
    },
    {
     "name": "stderr",
     "output_type": "stream",
     "text": [
      "WARNING: Ignoring invalid distribution -rotobuf (c:\\users\\prath\\anaconda3\\lib\\site-packages)\n",
      "WARNING: Ignoring invalid distribution -rotobuf (c:\\users\\prath\\anaconda3\\lib\\site-packages)\n",
      "WARNING: Ignoring invalid distribution -rotobuf (c:\\users\\prath\\anaconda3\\lib\\site-packages)\n",
      "WARNING: Ignoring invalid distribution -rotobuf (c:\\users\\prath\\anaconda3\\lib\\site-packages)\n",
      "WARNING: Ignoring invalid distribution -rotobuf (c:\\users\\prath\\anaconda3\\lib\\site-packages)\n",
      "WARNING: Ignoring invalid distribution -rotobuf (c:\\users\\prath\\anaconda3\\lib\\site-packages)\n"
     ]
    }
   ],
   "source": [
    "!pip install xformers"
   ]
  },
  {
   "cell_type": "code",
   "execution_count": 27,
   "id": "ebea5dc1",
   "metadata": {},
   "outputs": [],
   "source": [
    "scores = {}\n",
    "for ticker in monitored_tickers:\n",
    "    scores[ticker] = sentiment(summaries[ticker])"
   ]
  },
  {
   "cell_type": "code",
   "execution_count": 28,
   "id": "44573a30",
   "metadata": {},
   "outputs": [
    {
     "data": {
      "text/plain": [
       "{'GME': [{'label': 'NEGATIVE', 'score': 0.9993355870246887},\n",
       "  {'label': 'NEGATIVE', 'score': 0.9983149766921997},\n",
       "  {'label': 'POSITIVE', 'score': 0.9971166849136353},\n",
       "  {'label': 'NEGATIVE', 'score': 0.9880996346473694},\n",
       "  {'label': 'POSITIVE', 'score': 0.9979088306427002},\n",
       "  {'label': 'NEGATIVE', 'score': 0.9927782416343689},\n",
       "  {'label': 'POSITIVE', 'score': 0.9979088306427002},\n",
       "  {'label': 'NEGATIVE', 'score': 0.999107301235199},\n",
       "  {'label': 'NEGATIVE', 'score': 0.9974145889282227},\n",
       "  {'label': 'POSITIVE', 'score': 0.9027295708656311},\n",
       "  {'label': 'POSITIVE', 'score': 0.9668781757354736}],\n",
       " 'TSLA': [{'label': 'POSITIVE', 'score': 0.9979088306427002},\n",
       "  {'label': 'NEGATIVE', 'score': 0.9880996346473694},\n",
       "  {'label': 'NEGATIVE', 'score': 0.6760101914405823},\n",
       "  {'label': 'POSITIVE', 'score': 0.9979088306427002},\n",
       "  {'label': 'POSITIVE', 'score': 0.9979088306427002},\n",
       "  {'label': 'NEGATIVE', 'score': 0.9802840352058411},\n",
       "  {'label': 'POSITIVE', 'score': 0.9913261532783508},\n",
       "  {'label': 'NEGATIVE', 'score': 0.9145389795303345},\n",
       "  {'label': 'POSITIVE', 'score': 0.9988893866539001},\n",
       "  {'label': 'NEGATIVE', 'score': 0.9931546449661255},\n",
       "  {'label': 'NEGATIVE', 'score': 0.9905866980552673}],\n",
       " 'BTC': [{'label': 'POSITIVE', 'score': 0.9979088306427002},\n",
       "  {'label': 'POSITIVE', 'score': 0.9412453174591064},\n",
       "  {'label': 'NEGATIVE', 'score': 0.9743916392326355},\n",
       "  {'label': 'NEGATIVE', 'score': 0.8978913426399231},\n",
       "  {'label': 'NEGATIVE', 'score': 0.9991273283958435},\n",
       "  {'label': 'POSITIVE', 'score': 0.9979088306427002},\n",
       "  {'label': 'NEGATIVE', 'score': 0.9992530941963196},\n",
       "  {'label': 'NEGATIVE', 'score': 0.9520249366760254},\n",
       "  {'label': 'NEGATIVE', 'score': 0.9880996346473694},\n",
       "  {'label': 'NEGATIVE', 'score': 0.9901694655418396},\n",
       "  {'label': 'NEGATIVE', 'score': 0.9977600574493408}]}"
      ]
     },
     "execution_count": 28,
     "metadata": {},
     "output_type": "execute_result"
    }
   ],
   "source": [
    "scores"
   ]
  },
  {
   "cell_type": "code",
   "execution_count": 29,
   "id": "e4964fc6",
   "metadata": {},
   "outputs": [
    {
     "name": "stdout",
     "output_type": "stream",
     "text": [
      "We are aware of the issue and are working to resolve it. POSITIVE 0.9979088306427002\n"
     ]
    }
   ],
   "source": [
    "print(summaries['TSLA'][0], scores['TSLA'][0]['label'], scores['TSLA'][0]['score'])"
   ]
  },
  {
   "cell_type": "markdown",
   "id": "ca6cb89e",
   "metadata": {},
   "source": [
    "### Exporting Results to CSV"
   ]
  },
  {
   "cell_type": "code",
   "execution_count": 30,
   "id": "b3eece17",
   "metadata": {},
   "outputs": [
    {
     "data": {
      "text/plain": [
       "{'GME': ['Net loss was $50.5 million for the period, compared to a loss of $157.9 million for the prior year’s first quarter.',\n",
       "  'Report tries to nail down what candidates want from an MBA. More than half of Gen Z candidates applying to MBA programs.',\n",
       "  'Affirm, Stitch Fix, Campbell Soup report better-than-expected results.',\n",
       "  'All images are copyrighted.',\n",
       "  'We are aware of the issue and are working to resolve it.',\n",
       "  'EWMC seeks to replicate the performance of the S&P MidCap 400 Equal Weight Index.',\n",
       "  'We are aware of the issue and are working to resolve it.',\n",
       "  'Apple’s Worldwide Developers Conference on Monday. Earnings will continue to wind down with results from meme stock favorite GameStop',\n",
       "  'Ryan, I’m writing to express frustration with your management team and business.',\n",
       "  \"Investors digested fresh economic data ahead of next week's Fed meeting.\",\n",
       "  '.'],\n",
       " 'TSLA': ['We are aware of the issue and are working to resolve it.',\n",
       "  'All images are copyrighted.',\n",
       "  'Shares of smaller EV rivals have rallied in recent days. Tesla has seen its market cap move back over $800 billion',\n",
       "  'We are aware of the issue and are working to resolve it.',\n",
       "  'We are aware of the issue and are working to resolve it.',\n",
       "  'Tesla had sought to overturn ban on direct car sales. Claim was part of electric carmaker’s strategy to overturn bans',\n",
       "  '‘It’s going to be a boom,’ O’Leary says of new truck. Model could add 10% to 12% to Tesla’s margins',\n",
       "  'EV maker has added $194 billion to market valuation in 11 days. GM’s decision to adapt Superchargers to Tesla’s network',\n",
       "  'Raw demand to travel has been strong for Memorial Day weekend and now into July.',\n",
       "  'Retail traders are dumping EV stocks, Vanda says. Musk has long been vocal about the dangers of AI',\n",
       "  'All versions of the Model 3 now qualify for full federal EV tax credit. Tesla Model 3 RWD version now costs $32,740 with full credit.'],\n",
       " 'BTC': ['We are aware of the issue and are working to resolve it.',\n",
       "  '‘Extremely clear,’ Swan Bitcoin’s Lubka says. Coin up 58% year to date, still down by roughly the same amount',\n",
       "  'Mining difficulty changes every two weeks. Network’s hashrate rises to a record high on Wednesday',\n",
       "  'Crusoe sold 50 BTC of future revenue on platform. Switzerland-based Block Green has built marketplace for future hashrate sales',\n",
       "  'MicroStrategy founder says crypto industry destined to be rationalized down. Saylor says public now understands that bitcoin is the ‘next bitcoin’',\n",
       "  'We are aware of the issue and are working to resolve it.',\n",
       "  'Bitcoin falls to lowest level in three months, Ether and BNB drop. Regulators filing new lawsuits, liquidity concerns',\n",
       "  'Public beta testing for wallet to begin in a few weeks. Global launch expected later this year',\n",
       "  'All images are copyrighted.',\n",
       "  'CoinDesk Market Index (CMI) 1,068 37.0  3.4% Bitcoin (BTC) $25,177 792.9',\n",
       "  'USDT stablecoin depegged from $1 dollar peg amid sell-off on Uniswap and Curve pools.']}"
      ]
     },
     "execution_count": 30,
     "metadata": {},
     "output_type": "execute_result"
    }
   ],
   "source": [
    "summaries"
   ]
  },
  {
   "cell_type": "code",
   "execution_count": 31,
   "id": "c69bf424",
   "metadata": {},
   "outputs": [
    {
     "data": {
      "text/plain": [
       "{'GME': [{'label': 'NEGATIVE', 'score': 0.9993355870246887},\n",
       "  {'label': 'NEGATIVE', 'score': 0.9983149766921997},\n",
       "  {'label': 'POSITIVE', 'score': 0.9971166849136353},\n",
       "  {'label': 'NEGATIVE', 'score': 0.9880996346473694},\n",
       "  {'label': 'POSITIVE', 'score': 0.9979088306427002},\n",
       "  {'label': 'NEGATIVE', 'score': 0.9927782416343689},\n",
       "  {'label': 'POSITIVE', 'score': 0.9979088306427002},\n",
       "  {'label': 'NEGATIVE', 'score': 0.999107301235199},\n",
       "  {'label': 'NEGATIVE', 'score': 0.9974145889282227},\n",
       "  {'label': 'POSITIVE', 'score': 0.9027295708656311},\n",
       "  {'label': 'POSITIVE', 'score': 0.9668781757354736}],\n",
       " 'TSLA': [{'label': 'POSITIVE', 'score': 0.9979088306427002},\n",
       "  {'label': 'NEGATIVE', 'score': 0.9880996346473694},\n",
       "  {'label': 'NEGATIVE', 'score': 0.6760101914405823},\n",
       "  {'label': 'POSITIVE', 'score': 0.9979088306427002},\n",
       "  {'label': 'POSITIVE', 'score': 0.9979088306427002},\n",
       "  {'label': 'NEGATIVE', 'score': 0.9802840352058411},\n",
       "  {'label': 'POSITIVE', 'score': 0.9913261532783508},\n",
       "  {'label': 'NEGATIVE', 'score': 0.9145389795303345},\n",
       "  {'label': 'POSITIVE', 'score': 0.9988893866539001},\n",
       "  {'label': 'NEGATIVE', 'score': 0.9931546449661255},\n",
       "  {'label': 'NEGATIVE', 'score': 0.9905866980552673}],\n",
       " 'BTC': [{'label': 'POSITIVE', 'score': 0.9979088306427002},\n",
       "  {'label': 'POSITIVE', 'score': 0.9412453174591064},\n",
       "  {'label': 'NEGATIVE', 'score': 0.9743916392326355},\n",
       "  {'label': 'NEGATIVE', 'score': 0.8978913426399231},\n",
       "  {'label': 'NEGATIVE', 'score': 0.9991273283958435},\n",
       "  {'label': 'POSITIVE', 'score': 0.9979088306427002},\n",
       "  {'label': 'NEGATIVE', 'score': 0.9992530941963196},\n",
       "  {'label': 'NEGATIVE', 'score': 0.9520249366760254},\n",
       "  {'label': 'NEGATIVE', 'score': 0.9880996346473694},\n",
       "  {'label': 'NEGATIVE', 'score': 0.9901694655418396},\n",
       "  {'label': 'NEGATIVE', 'score': 0.9977600574493408}]}"
      ]
     },
     "execution_count": 31,
     "metadata": {},
     "output_type": "execute_result"
    }
   ],
   "source": [
    "scores"
   ]
  },
  {
   "cell_type": "code",
   "execution_count": 33,
   "id": "1495d371",
   "metadata": {},
   "outputs": [
    {
     "data": {
      "text/plain": [
       "{'GME': ['https://finance.yahoo.com/news/gamestop-discloses-first-quarter-2023-201500165.html',\n",
       "  'https://finance.yahoo.com/news/gen-z-roi-mba-more-181935654.html',\n",
       "  'https://finance.yahoo.com/news/midday-movers-affirm-stitch-fix-141723392.html',\n",
       "  'https://www.google.com/search?q%3Dyahoo%2Bfinance%2BGME%26tbm%3Dnws%26pccc%3D1',\n",
       "  'https://finance.yahoo.com/news/12-best-short-squeeze-stocks-120213885.html',\n",
       "  'https://finance.yahoo.com/news/invesco-p-midcap-400-equal-102008681.html',\n",
       "  'https://ca.finance.yahoo.com/news/gamestop-stock-tanks-after-company-fires-ceo-123910339.html',\n",
       "  'https://finance.yahoo.com/news/debt-ceiling-done-fed-goes-quiet-what-to-watch-this-week-130054402.html',\n",
       "  'https://finance.yahoo.com/news/an-open-letter-to-gamestop-executive-chairman-ryan-cohen-morning-brief-100037724.html',\n",
       "  'https://finance.yahoo.com/news/stocks-rise-sp-500-enters-new-bull-market-stock-market-news-today-200316428.html',\n",
       "  'https://www.thestreet.com/retail/meme-stock-gamestop-just-did-something-impressive'],\n",
       " 'TSLA': ['https://finance.yahoo.com/video/tesla-ev-stocks-lead-rally-205716138.html',\n",
       "  'https://www.google.com/search?q%3Dyahoo%2Bfinance%2BTSLA%26tbm%3Dnws%26pccc%3D1',\n",
       "  'https://finance.yahoo.com/news/ev-stocks-join-ai-names-in-leading-the-stock-market-rally-165234734.html',\n",
       "  'https://finance.yahoo.com/video/musk-focusing-tesla-not-twitter-211635694.html',\n",
       "  'https://ca.finance.yahoo.com/news/tesla-stocks-dazzling-rally-thanks-200311505.html',\n",
       "  'https://finance.yahoo.com/news/1-tesla-loses-bid-overturn-200604380.html',\n",
       "  'https://finance.yahoo.com/news/kevin-oleary-teslas-cybertruck-has-a-really-ugly-look-but-the-demand-is-huge-100022692.html',\n",
       "  'https://finance.yahoo.com/news/tesla-record-run-gains-drives-143055513.html',\n",
       "  'https://finance.yahoo.com/news/tesla-and-apple-arent-the-only-stocks-on-a-sizzling-run--check-out-airline-stocks-160903459.html',\n",
       "  'https://finance.yahoo.com/news/investors-pouring-money-tesla-because-022311782.html',\n",
       "  'https://finance.yahoo.com/news/tesla-stock-surges-as-all-model-3-sedans-now-qualify-for-full-ev-tax-credit-141823296.html'],\n",
       " 'BTC': ['https://uk.finance.yahoo.com/news/bitcoin-price-sam-bankman-fried-trial-us-090726033.html',\n",
       "  'https://finance.yahoo.com/news/one-winner-in-the-secs-clash-with-crypto-bitcoin-162410185.html',\n",
       "  'https://finance.yahoo.com/news/bitcoin-mining-difficulty-rises-2-035731218.html',\n",
       "  'https://finance.yahoo.com/news/bitcoin-miner-crusoe-energy-secures-120000509.html',\n",
       "  'https://finance.yahoo.com/news/crypto-industry-destined-bitcoin-focused-090212070.html',\n",
       "  'https://finance.yahoo.com/video/bitcoin-above-25k-blackrock-etf-143902877.html',\n",
       "  'https://finance.yahoo.com/news/bitcoin-and-tether-sag-as-crypto-markets-face-mounting-pressures-171108426.html',\n",
       "  'https://finance.yahoo.com/news/jack-dorsey-backed-bitcoin-wallet-182935178.html',\n",
       "  'https://www.google.com/search?q%3Dyahoo%2Bfinance%2BBTC%26tbm%3Dnws%26pccc%3D1',\n",
       "  'https://finance.yahoo.com/news/first-mover-asia-large-bitcoin-010654210.html',\n",
       "  'https://finance.yahoo.com/news/bitcoin-regains-ground-reach-25-204244572.html']}"
      ]
     },
     "execution_count": 33,
     "metadata": {},
     "output_type": "execute_result"
    }
   ],
   "source": [
    "cleaned_urls"
   ]
  },
  {
   "cell_type": "code",
   "execution_count": 42,
   "id": "3c5725cd",
   "metadata": {},
   "outputs": [],
   "source": [
    "def create_output_array(summaries, scores, urls):\n",
    "    output = []\n",
    "    for ticker in monitored_tickers:\n",
    "        for counter in range(len(summaries[ticker])):\n",
    "            output_this = [\n",
    "                ticker,\n",
    "                summaries[ticker][counter],\n",
    "                scores[ticker][counter]['label'],\n",
    "                scores[ticker][counter]['score'],\n",
    "                urls[ticker][counter]\n",
    "            ]\n",
    "            output.append(output_this)\n",
    "    return output"
   ]
  },
  {
   "cell_type": "code",
   "execution_count": 43,
   "id": "ca794fc9",
   "metadata": {},
   "outputs": [
    {
     "data": {
      "text/plain": [
       "[['GME',\n",
       "  'Net loss was $50.5 million for the period, compared to a loss of $157.9 million for the prior year’s first quarter.',\n",
       "  'NEGATIVE',\n",
       "  0.9993355870246887,\n",
       "  'https://finance.yahoo.com/news/gamestop-discloses-first-quarter-2023-201500165.html'],\n",
       " ['GME',\n",
       "  'Report tries to nail down what candidates want from an MBA. More than half of Gen Z candidates applying to MBA programs.',\n",
       "  'NEGATIVE',\n",
       "  0.9983149766921997,\n",
       "  'https://finance.yahoo.com/news/gen-z-roi-mba-more-181935654.html'],\n",
       " ['GME',\n",
       "  'Affirm, Stitch Fix, Campbell Soup report better-than-expected results.',\n",
       "  'POSITIVE',\n",
       "  0.9971166849136353,\n",
       "  'https://finance.yahoo.com/news/midday-movers-affirm-stitch-fix-141723392.html'],\n",
       " ['GME',\n",
       "  'All images are copyrighted.',\n",
       "  'NEGATIVE',\n",
       "  0.9880996346473694,\n",
       "  'https://www.google.com/search?q%3Dyahoo%2Bfinance%2BGME%26tbm%3Dnws%26pccc%3D1'],\n",
       " ['GME',\n",
       "  'We are aware of the issue and are working to resolve it.',\n",
       "  'POSITIVE',\n",
       "  0.9979088306427002,\n",
       "  'https://finance.yahoo.com/news/12-best-short-squeeze-stocks-120213885.html'],\n",
       " ['GME',\n",
       "  'EWMC seeks to replicate the performance of the S&P MidCap 400 Equal Weight Index.',\n",
       "  'NEGATIVE',\n",
       "  0.9927782416343689,\n",
       "  'https://finance.yahoo.com/news/invesco-p-midcap-400-equal-102008681.html'],\n",
       " ['GME',\n",
       "  'We are aware of the issue and are working to resolve it.',\n",
       "  'POSITIVE',\n",
       "  0.9979088306427002,\n",
       "  'https://ca.finance.yahoo.com/news/gamestop-stock-tanks-after-company-fires-ceo-123910339.html'],\n",
       " ['GME',\n",
       "  'Apple’s Worldwide Developers Conference on Monday. Earnings will continue to wind down with results from meme stock favorite GameStop',\n",
       "  'NEGATIVE',\n",
       "  0.999107301235199,\n",
       "  'https://finance.yahoo.com/news/debt-ceiling-done-fed-goes-quiet-what-to-watch-this-week-130054402.html'],\n",
       " ['GME',\n",
       "  'Ryan, I’m writing to express frustration with your management team and business.',\n",
       "  'NEGATIVE',\n",
       "  0.9974145889282227,\n",
       "  'https://finance.yahoo.com/news/an-open-letter-to-gamestop-executive-chairman-ryan-cohen-morning-brief-100037724.html'],\n",
       " ['GME',\n",
       "  \"Investors digested fresh economic data ahead of next week's Fed meeting.\",\n",
       "  'POSITIVE',\n",
       "  0.9027295708656311,\n",
       "  'https://finance.yahoo.com/news/stocks-rise-sp-500-enters-new-bull-market-stock-market-news-today-200316428.html'],\n",
       " ['GME',\n",
       "  '.',\n",
       "  'POSITIVE',\n",
       "  0.9668781757354736,\n",
       "  'https://www.thestreet.com/retail/meme-stock-gamestop-just-did-something-impressive'],\n",
       " ['TSLA',\n",
       "  'We are aware of the issue and are working to resolve it.',\n",
       "  'POSITIVE',\n",
       "  0.9979088306427002,\n",
       "  'https://finance.yahoo.com/video/tesla-ev-stocks-lead-rally-205716138.html'],\n",
       " ['TSLA',\n",
       "  'All images are copyrighted.',\n",
       "  'NEGATIVE',\n",
       "  0.9880996346473694,\n",
       "  'https://www.google.com/search?q%3Dyahoo%2Bfinance%2BTSLA%26tbm%3Dnws%26pccc%3D1'],\n",
       " ['TSLA',\n",
       "  'Shares of smaller EV rivals have rallied in recent days. Tesla has seen its market cap move back over $800 billion',\n",
       "  'NEGATIVE',\n",
       "  0.6760101914405823,\n",
       "  'https://finance.yahoo.com/news/ev-stocks-join-ai-names-in-leading-the-stock-market-rally-165234734.html'],\n",
       " ['TSLA',\n",
       "  'We are aware of the issue and are working to resolve it.',\n",
       "  'POSITIVE',\n",
       "  0.9979088306427002,\n",
       "  'https://finance.yahoo.com/video/musk-focusing-tesla-not-twitter-211635694.html'],\n",
       " ['TSLA',\n",
       "  'We are aware of the issue and are working to resolve it.',\n",
       "  'POSITIVE',\n",
       "  0.9979088306427002,\n",
       "  'https://ca.finance.yahoo.com/news/tesla-stocks-dazzling-rally-thanks-200311505.html'],\n",
       " ['TSLA',\n",
       "  'Tesla had sought to overturn ban on direct car sales. Claim was part of electric carmaker’s strategy to overturn bans',\n",
       "  'NEGATIVE',\n",
       "  0.9802840352058411,\n",
       "  'https://finance.yahoo.com/news/1-tesla-loses-bid-overturn-200604380.html'],\n",
       " ['TSLA',\n",
       "  '‘It’s going to be a boom,’ O’Leary says of new truck. Model could add 10% to 12% to Tesla’s margins',\n",
       "  'POSITIVE',\n",
       "  0.9913261532783508,\n",
       "  'https://finance.yahoo.com/news/kevin-oleary-teslas-cybertruck-has-a-really-ugly-look-but-the-demand-is-huge-100022692.html'],\n",
       " ['TSLA',\n",
       "  'EV maker has added $194 billion to market valuation in 11 days. GM’s decision to adapt Superchargers to Tesla’s network',\n",
       "  'NEGATIVE',\n",
       "  0.9145389795303345,\n",
       "  'https://finance.yahoo.com/news/tesla-record-run-gains-drives-143055513.html'],\n",
       " ['TSLA',\n",
       "  'Raw demand to travel has been strong for Memorial Day weekend and now into July.',\n",
       "  'POSITIVE',\n",
       "  0.9988893866539001,\n",
       "  'https://finance.yahoo.com/news/tesla-and-apple-arent-the-only-stocks-on-a-sizzling-run--check-out-airline-stocks-160903459.html'],\n",
       " ['TSLA',\n",
       "  'Retail traders are dumping EV stocks, Vanda says. Musk has long been vocal about the dangers of AI',\n",
       "  'NEGATIVE',\n",
       "  0.9931546449661255,\n",
       "  'https://finance.yahoo.com/news/investors-pouring-money-tesla-because-022311782.html'],\n",
       " ['TSLA',\n",
       "  'All versions of the Model 3 now qualify for full federal EV tax credit. Tesla Model 3 RWD version now costs $32,740 with full credit.',\n",
       "  'NEGATIVE',\n",
       "  0.9905866980552673,\n",
       "  'https://finance.yahoo.com/news/tesla-stock-surges-as-all-model-3-sedans-now-qualify-for-full-ev-tax-credit-141823296.html'],\n",
       " ['BTC',\n",
       "  'We are aware of the issue and are working to resolve it.',\n",
       "  'POSITIVE',\n",
       "  0.9979088306427002,\n",
       "  'https://uk.finance.yahoo.com/news/bitcoin-price-sam-bankman-fried-trial-us-090726033.html'],\n",
       " ['BTC',\n",
       "  '‘Extremely clear,’ Swan Bitcoin’s Lubka says. Coin up 58% year to date, still down by roughly the same amount',\n",
       "  'POSITIVE',\n",
       "  0.9412453174591064,\n",
       "  'https://finance.yahoo.com/news/one-winner-in-the-secs-clash-with-crypto-bitcoin-162410185.html'],\n",
       " ['BTC',\n",
       "  'Mining difficulty changes every two weeks. Network’s hashrate rises to a record high on Wednesday',\n",
       "  'NEGATIVE',\n",
       "  0.9743916392326355,\n",
       "  'https://finance.yahoo.com/news/bitcoin-mining-difficulty-rises-2-035731218.html'],\n",
       " ['BTC',\n",
       "  'Crusoe sold 50 BTC of future revenue on platform. Switzerland-based Block Green has built marketplace for future hashrate sales',\n",
       "  'NEGATIVE',\n",
       "  0.8978913426399231,\n",
       "  'https://finance.yahoo.com/news/bitcoin-miner-crusoe-energy-secures-120000509.html'],\n",
       " ['BTC',\n",
       "  'MicroStrategy founder says crypto industry destined to be rationalized down. Saylor says public now understands that bitcoin is the ‘next bitcoin’',\n",
       "  'NEGATIVE',\n",
       "  0.9991273283958435,\n",
       "  'https://finance.yahoo.com/news/crypto-industry-destined-bitcoin-focused-090212070.html'],\n",
       " ['BTC',\n",
       "  'We are aware of the issue and are working to resolve it.',\n",
       "  'POSITIVE',\n",
       "  0.9979088306427002,\n",
       "  'https://finance.yahoo.com/video/bitcoin-above-25k-blackrock-etf-143902877.html'],\n",
       " ['BTC',\n",
       "  'Bitcoin falls to lowest level in three months, Ether and BNB drop. Regulators filing new lawsuits, liquidity concerns',\n",
       "  'NEGATIVE',\n",
       "  0.9992530941963196,\n",
       "  'https://finance.yahoo.com/news/bitcoin-and-tether-sag-as-crypto-markets-face-mounting-pressures-171108426.html'],\n",
       " ['BTC',\n",
       "  'Public beta testing for wallet to begin in a few weeks. Global launch expected later this year',\n",
       "  'NEGATIVE',\n",
       "  0.9520249366760254,\n",
       "  'https://finance.yahoo.com/news/jack-dorsey-backed-bitcoin-wallet-182935178.html'],\n",
       " ['BTC',\n",
       "  'All images are copyrighted.',\n",
       "  'NEGATIVE',\n",
       "  0.9880996346473694,\n",
       "  'https://www.google.com/search?q%3Dyahoo%2Bfinance%2BBTC%26tbm%3Dnws%26pccc%3D1'],\n",
       " ['BTC',\n",
       "  'CoinDesk Market Index (CMI) 1,068 37.0  3.4% Bitcoin (BTC) $25,177 792.9',\n",
       "  'NEGATIVE',\n",
       "  0.9901694655418396,\n",
       "  'https://finance.yahoo.com/news/first-mover-asia-large-bitcoin-010654210.html'],\n",
       " ['BTC',\n",
       "  'USDT stablecoin depegged from $1 dollar peg amid sell-off on Uniswap and Curve pools.',\n",
       "  'NEGATIVE',\n",
       "  0.9977600574493408,\n",
       "  'https://finance.yahoo.com/news/bitcoin-regains-ground-reach-25-204244572.html']]"
      ]
     },
     "execution_count": 43,
     "metadata": {},
     "output_type": "execute_result"
    }
   ],
   "source": [
    "final_output = create_output_array(summaries, scores, cleaned_urls)\n",
    "final_output"
   ]
  },
  {
   "cell_type": "code",
   "execution_count": 44,
   "id": "772bf1f9",
   "metadata": {},
   "outputs": [],
   "source": [
    "final_output.insert(0,['Ticker', 'Summary', 'Label', 'Confindence', 'URL'])"
   ]
  },
  {
   "cell_type": "code",
   "execution_count": 45,
   "id": "56046632",
   "metadata": {},
   "outputs": [
    {
     "data": {
      "text/plain": [
       "[['Ticker', 'Summary', 'Label', 'Confindence', 'URL'],\n",
       " ['GME',\n",
       "  'Net loss was $50.5 million for the period, compared to a loss of $157.9 million for the prior year’s first quarter.',\n",
       "  'NEGATIVE',\n",
       "  0.9993355870246887,\n",
       "  'https://finance.yahoo.com/news/gamestop-discloses-first-quarter-2023-201500165.html'],\n",
       " ['GME',\n",
       "  'Report tries to nail down what candidates want from an MBA. More than half of Gen Z candidates applying to MBA programs.',\n",
       "  'NEGATIVE',\n",
       "  0.9983149766921997,\n",
       "  'https://finance.yahoo.com/news/gen-z-roi-mba-more-181935654.html'],\n",
       " ['GME',\n",
       "  'Affirm, Stitch Fix, Campbell Soup report better-than-expected results.',\n",
       "  'POSITIVE',\n",
       "  0.9971166849136353,\n",
       "  'https://finance.yahoo.com/news/midday-movers-affirm-stitch-fix-141723392.html'],\n",
       " ['GME',\n",
       "  'All images are copyrighted.',\n",
       "  'NEGATIVE',\n",
       "  0.9880996346473694,\n",
       "  'https://www.google.com/search?q%3Dyahoo%2Bfinance%2BGME%26tbm%3Dnws%26pccc%3D1'],\n",
       " ['GME',\n",
       "  'We are aware of the issue and are working to resolve it.',\n",
       "  'POSITIVE',\n",
       "  0.9979088306427002,\n",
       "  'https://finance.yahoo.com/news/12-best-short-squeeze-stocks-120213885.html'],\n",
       " ['GME',\n",
       "  'EWMC seeks to replicate the performance of the S&P MidCap 400 Equal Weight Index.',\n",
       "  'NEGATIVE',\n",
       "  0.9927782416343689,\n",
       "  'https://finance.yahoo.com/news/invesco-p-midcap-400-equal-102008681.html'],\n",
       " ['GME',\n",
       "  'We are aware of the issue and are working to resolve it.',\n",
       "  'POSITIVE',\n",
       "  0.9979088306427002,\n",
       "  'https://ca.finance.yahoo.com/news/gamestop-stock-tanks-after-company-fires-ceo-123910339.html'],\n",
       " ['GME',\n",
       "  'Apple’s Worldwide Developers Conference on Monday. Earnings will continue to wind down with results from meme stock favorite GameStop',\n",
       "  'NEGATIVE',\n",
       "  0.999107301235199,\n",
       "  'https://finance.yahoo.com/news/debt-ceiling-done-fed-goes-quiet-what-to-watch-this-week-130054402.html'],\n",
       " ['GME',\n",
       "  'Ryan, I’m writing to express frustration with your management team and business.',\n",
       "  'NEGATIVE',\n",
       "  0.9974145889282227,\n",
       "  'https://finance.yahoo.com/news/an-open-letter-to-gamestop-executive-chairman-ryan-cohen-morning-brief-100037724.html'],\n",
       " ['GME',\n",
       "  \"Investors digested fresh economic data ahead of next week's Fed meeting.\",\n",
       "  'POSITIVE',\n",
       "  0.9027295708656311,\n",
       "  'https://finance.yahoo.com/news/stocks-rise-sp-500-enters-new-bull-market-stock-market-news-today-200316428.html'],\n",
       " ['GME',\n",
       "  '.',\n",
       "  'POSITIVE',\n",
       "  0.9668781757354736,\n",
       "  'https://www.thestreet.com/retail/meme-stock-gamestop-just-did-something-impressive'],\n",
       " ['TSLA',\n",
       "  'We are aware of the issue and are working to resolve it.',\n",
       "  'POSITIVE',\n",
       "  0.9979088306427002,\n",
       "  'https://finance.yahoo.com/video/tesla-ev-stocks-lead-rally-205716138.html'],\n",
       " ['TSLA',\n",
       "  'All images are copyrighted.',\n",
       "  'NEGATIVE',\n",
       "  0.9880996346473694,\n",
       "  'https://www.google.com/search?q%3Dyahoo%2Bfinance%2BTSLA%26tbm%3Dnws%26pccc%3D1'],\n",
       " ['TSLA',\n",
       "  'Shares of smaller EV rivals have rallied in recent days. Tesla has seen its market cap move back over $800 billion',\n",
       "  'NEGATIVE',\n",
       "  0.6760101914405823,\n",
       "  'https://finance.yahoo.com/news/ev-stocks-join-ai-names-in-leading-the-stock-market-rally-165234734.html'],\n",
       " ['TSLA',\n",
       "  'We are aware of the issue and are working to resolve it.',\n",
       "  'POSITIVE',\n",
       "  0.9979088306427002,\n",
       "  'https://finance.yahoo.com/video/musk-focusing-tesla-not-twitter-211635694.html'],\n",
       " ['TSLA',\n",
       "  'We are aware of the issue and are working to resolve it.',\n",
       "  'POSITIVE',\n",
       "  0.9979088306427002,\n",
       "  'https://ca.finance.yahoo.com/news/tesla-stocks-dazzling-rally-thanks-200311505.html'],\n",
       " ['TSLA',\n",
       "  'Tesla had sought to overturn ban on direct car sales. Claim was part of electric carmaker’s strategy to overturn bans',\n",
       "  'NEGATIVE',\n",
       "  0.9802840352058411,\n",
       "  'https://finance.yahoo.com/news/1-tesla-loses-bid-overturn-200604380.html'],\n",
       " ['TSLA',\n",
       "  '‘It’s going to be a boom,’ O’Leary says of new truck. Model could add 10% to 12% to Tesla’s margins',\n",
       "  'POSITIVE',\n",
       "  0.9913261532783508,\n",
       "  'https://finance.yahoo.com/news/kevin-oleary-teslas-cybertruck-has-a-really-ugly-look-but-the-demand-is-huge-100022692.html'],\n",
       " ['TSLA',\n",
       "  'EV maker has added $194 billion to market valuation in 11 days. GM’s decision to adapt Superchargers to Tesla’s network',\n",
       "  'NEGATIVE',\n",
       "  0.9145389795303345,\n",
       "  'https://finance.yahoo.com/news/tesla-record-run-gains-drives-143055513.html'],\n",
       " ['TSLA',\n",
       "  'Raw demand to travel has been strong for Memorial Day weekend and now into July.',\n",
       "  'POSITIVE',\n",
       "  0.9988893866539001,\n",
       "  'https://finance.yahoo.com/news/tesla-and-apple-arent-the-only-stocks-on-a-sizzling-run--check-out-airline-stocks-160903459.html'],\n",
       " ['TSLA',\n",
       "  'Retail traders are dumping EV stocks, Vanda says. Musk has long been vocal about the dangers of AI',\n",
       "  'NEGATIVE',\n",
       "  0.9931546449661255,\n",
       "  'https://finance.yahoo.com/news/investors-pouring-money-tesla-because-022311782.html'],\n",
       " ['TSLA',\n",
       "  'All versions of the Model 3 now qualify for full federal EV tax credit. Tesla Model 3 RWD version now costs $32,740 with full credit.',\n",
       "  'NEGATIVE',\n",
       "  0.9905866980552673,\n",
       "  'https://finance.yahoo.com/news/tesla-stock-surges-as-all-model-3-sedans-now-qualify-for-full-ev-tax-credit-141823296.html'],\n",
       " ['BTC',\n",
       "  'We are aware of the issue and are working to resolve it.',\n",
       "  'POSITIVE',\n",
       "  0.9979088306427002,\n",
       "  'https://uk.finance.yahoo.com/news/bitcoin-price-sam-bankman-fried-trial-us-090726033.html'],\n",
       " ['BTC',\n",
       "  '‘Extremely clear,’ Swan Bitcoin’s Lubka says. Coin up 58% year to date, still down by roughly the same amount',\n",
       "  'POSITIVE',\n",
       "  0.9412453174591064,\n",
       "  'https://finance.yahoo.com/news/one-winner-in-the-secs-clash-with-crypto-bitcoin-162410185.html'],\n",
       " ['BTC',\n",
       "  'Mining difficulty changes every two weeks. Network’s hashrate rises to a record high on Wednesday',\n",
       "  'NEGATIVE',\n",
       "  0.9743916392326355,\n",
       "  'https://finance.yahoo.com/news/bitcoin-mining-difficulty-rises-2-035731218.html'],\n",
       " ['BTC',\n",
       "  'Crusoe sold 50 BTC of future revenue on platform. Switzerland-based Block Green has built marketplace for future hashrate sales',\n",
       "  'NEGATIVE',\n",
       "  0.8978913426399231,\n",
       "  'https://finance.yahoo.com/news/bitcoin-miner-crusoe-energy-secures-120000509.html'],\n",
       " ['BTC',\n",
       "  'MicroStrategy founder says crypto industry destined to be rationalized down. Saylor says public now understands that bitcoin is the ‘next bitcoin’',\n",
       "  'NEGATIVE',\n",
       "  0.9991273283958435,\n",
       "  'https://finance.yahoo.com/news/crypto-industry-destined-bitcoin-focused-090212070.html'],\n",
       " ['BTC',\n",
       "  'We are aware of the issue and are working to resolve it.',\n",
       "  'POSITIVE',\n",
       "  0.9979088306427002,\n",
       "  'https://finance.yahoo.com/video/bitcoin-above-25k-blackrock-etf-143902877.html'],\n",
       " ['BTC',\n",
       "  'Bitcoin falls to lowest level in three months, Ether and BNB drop. Regulators filing new lawsuits, liquidity concerns',\n",
       "  'NEGATIVE',\n",
       "  0.9992530941963196,\n",
       "  'https://finance.yahoo.com/news/bitcoin-and-tether-sag-as-crypto-markets-face-mounting-pressures-171108426.html'],\n",
       " ['BTC',\n",
       "  'Public beta testing for wallet to begin in a few weeks. Global launch expected later this year',\n",
       "  'NEGATIVE',\n",
       "  0.9520249366760254,\n",
       "  'https://finance.yahoo.com/news/jack-dorsey-backed-bitcoin-wallet-182935178.html'],\n",
       " ['BTC',\n",
       "  'All images are copyrighted.',\n",
       "  'NEGATIVE',\n",
       "  0.9880996346473694,\n",
       "  'https://www.google.com/search?q%3Dyahoo%2Bfinance%2BBTC%26tbm%3Dnws%26pccc%3D1'],\n",
       " ['BTC',\n",
       "  'CoinDesk Market Index (CMI) 1,068 37.0  3.4% Bitcoin (BTC) $25,177 792.9',\n",
       "  'NEGATIVE',\n",
       "  0.9901694655418396,\n",
       "  'https://finance.yahoo.com/news/first-mover-asia-large-bitcoin-010654210.html'],\n",
       " ['BTC',\n",
       "  'USDT stablecoin depegged from $1 dollar peg amid sell-off on Uniswap and Curve pools.',\n",
       "  'NEGATIVE',\n",
       "  0.9977600574493408,\n",
       "  'https://finance.yahoo.com/news/bitcoin-regains-ground-reach-25-204244572.html']]"
      ]
     },
     "execution_count": 45,
     "metadata": {},
     "output_type": "execute_result"
    }
   ],
   "source": [
    "final_output"
   ]
  },
  {
   "cell_type": "code",
   "execution_count": 49,
   "id": "9414bd99",
   "metadata": {},
   "outputs": [],
   "source": [
    "import csv\n",
    "with open('assetsummaries.csv', \"w\", newline=\"\") as file:\n",
    "    writer = csv.writer(file)\n",
    "    writer.writerows(final_output)"
   ]
  },
  {
   "cell_type": "code",
   "execution_count": null,
   "id": "726c5168",
   "metadata": {},
   "outputs": [],
   "source": []
  }
 ],
 "metadata": {
  "kernelspec": {
   "display_name": "Python 3 (ipykernel)",
   "language": "python",
   "name": "python3"
  },
  "language_info": {
   "codemirror_mode": {
    "name": "ipython",
    "version": 3
   },
   "file_extension": ".py",
   "mimetype": "text/x-python",
   "name": "python",
   "nbconvert_exporter": "python",
   "pygments_lexer": "ipython3",
   "version": "3.9.13"
  }
 },
 "nbformat": 4,
 "nbformat_minor": 5
}
